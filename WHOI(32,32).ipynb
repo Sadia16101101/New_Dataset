{
 "cells": [
  {
   "cell_type": "code",
   "execution_count": 8,
   "id": "e36d9482",
   "metadata": {},
   "outputs": [],
   "source": [
    "import os\n",
    "import numpy as np\n",
    "from PIL import Image\n",
    "from sklearn.model_selection import train_test_split\n",
    "import tensorflow as tf\n",
    "from tensorflow.keras.applications import ResNet50\n",
    "from tensorflow.keras.models import Sequential\n",
    "from tensorflow.keras.layers import Dense, GlobalAveragePooling2D\n",
    "from tensorflow.keras.optimizers import Adam\n",
    "from tensorflow.keras.utils import to_categorical\n",
    "\n",
    "# Initialize lists to store image data and labels\n",
    "X_train = []\n",
    "Y_train = []\n",
    "\n",
    "# Define the path to your dataset directory\n",
    "dataset_dir = r'C:\\Users\\sadia_tisha1\\Desktop\\2014'\n"
   ]
  },
  {
   "cell_type": "code",
   "execution_count": 9,
   "id": "26a65728",
   "metadata": {},
   "outputs": [
    {
     "name": "stdout",
     "output_type": "stream",
     "text": [
      "X_train shape: (329832, 32, 32, 3)\n"
     ]
    }
   ],
   "source": [
    "\n",
    "# Iterate through each subfolder in the dataset directory\n",
    "for label, class_folder in enumerate(os.listdir(dataset_dir)):\n",
    "    class_folder_path = os.path.join(dataset_dir, class_folder)\n",
    "\n",
    "    # Check if it's a directory\n",
    "    if os.path.isdir(class_folder_path):\n",
    "        for image_file in os.listdir(class_folder_path):\n",
    "            image_path = os.path.join(class_folder_path, image_file)\n",
    "            \n",
    "            # Check if the file is a valid image (e.g., skip Thumbs.db)\n",
    "            if image_file.endswith(('.jpg', '.jpeg', '.png', '.gif', '.bmp')):\n",
    "                # Open the image using PIL and convert to RGB\n",
    "                image = Image.open(image_path).convert(\"RGB\")\n",
    "                \n",
    "                # Resize the image to (32, 32, 3)\n",
    "                image = image.resize((32, 32))\n",
    "                \n",
    "                # Convert PIL image to numpy array\n",
    "                image_array = np.array(image)\n",
    "                \n",
    "                # Append the image data to X_train\n",
    "                X_train.append(image_array)\n",
    "                \n",
    "                # Append the label to Y_train\n",
    "                Y_train.append(label)\n",
    "\n",
    "# Convert X_train and Y_train to numpy arrays\n",
    "X_train = np.array(X_train)\n",
    "Y_train = np.array(Y_train)\n",
    "\n",
    "print(\"X_train shape:\", X_train.shape)\n",
    "\n"
   ]
  },
  {
   "cell_type": "code",
   "execution_count": 11,
   "id": "bc82d840",
   "metadata": {},
   "outputs": [
    {
     "name": "stdout",
     "output_type": "stream",
     "text": [
      "Number of unique classes: 91\n"
     ]
    }
   ],
   "source": [
    "X_train, X_test, Y_train, Y_test = train_test_split(X_train, Y_train, test_size=0.2, random_state=42)\n",
    "\n",
    "num_classes = len(np.unique(Y_train))\n",
    "print(\"Number of unique classes:\", num_classes)\n",
    "\n"
   ]
  },
  {
   "cell_type": "code",
   "execution_count": 13,
   "id": "eb6b5e16",
   "metadata": {},
   "outputs": [
    {
     "name": "stdout",
     "output_type": "stream",
     "text": [
      "Unique classes in Y_train: [  1   2   3   5   6   9  10  11  12  13  14  15  16  17  18  19  20  21\n",
      "  22  23  24  25  26  27  28  29  30  31  32  33  34  35  36  37  38  39\n",
      "  40  41  42  43  45  46  47  48  50  51  53  55  56  57  59  60  61  62\n",
      "  63  64  65  66  67  68  69  70  71  72  73  74  75  76  77  78  79  80\n",
      "  81  82  83  84  85  86  87  88  89  90  91  92  93  95  96  97  99 101\n",
      " 102]\n",
      "Unique classes in Y_test: [  1   2   3   5   6   9  10  11  12  13  16  17  18  19  20  22  23  24\n",
      "  25  26  27  28  29  30  31  32  33  34  35  36  37  38  39  40  41  43\n",
      "  45  46  47  48  49  50  51  53  55  57  58  60  61  62  63  64  65  67\n",
      "  68  69  70  71  72  73  74  75  76  77  78  79  80  81  82  83  84  85\n",
      "  91  92  93  95  96  97  99 102]\n"
     ]
    }
   ],
   "source": [
    "unique_classes_train = np.unique(Y_train)\n",
    "unique_classes_test = np.unique(Y_test)\n",
    "\n",
    "print(\"Unique classes in Y_train:\", unique_classes_train)\n",
    "print(\"Unique classes in Y_test:\", unique_classes_test)\n"
   ]
  },
  {
   "cell_type": "code",
   "execution_count": 16,
   "id": "7741ceda",
   "metadata": {},
   "outputs": [],
   "source": [
    "# Adjust class labels to start from 0 and ensure they are within the range 0 to 90\n",
    "Y_train_adjusted = np.clip(Y_train - 1, 0, 90)\n",
    "Y_test_adjusted = np.clip(Y_test - 1, 0, 90)\n",
    "\n",
    "# Convert Y_train and Y_test to categorical one-hot encoding\n",
    "num_classes = len(np.unique(Y_train))\n",
    "Y_train_categorical = to_categorical(Y_train_adjusted, num_classes=num_classes)\n",
    "Y_test_categorical = to_categorical(Y_test_adjusted, num_classes=num_classes)\n"
   ]
  },
  {
   "cell_type": "code",
   "execution_count": 17,
   "id": "d6049907",
   "metadata": {},
   "outputs": [
    {
     "name": "stdout",
     "output_type": "stream",
     "text": [
      "X_train shape: (211092, 32, 32, 3)\n",
      "Y_train shape: (211092, 91)\n",
      "X_test shape: (52773, 32, 32, 3)\n",
      "Y_test shape: (52773, 91)\n"
     ]
    }
   ],
   "source": [
    "\n",
    "# Print the shapes of the arrays\n",
    "print(\"X_train shape:\", X_train.shape)\n",
    "print(\"Y_train shape:\", Y_train_categorical.shape)\n",
    "print(\"X_test shape:\", X_test.shape)\n",
    "print(\"Y_test shape:\", Y_test_categorical.shape)"
   ]
  },
  {
   "cell_type": "code",
   "execution_count": 18,
   "id": "bc2399a8",
   "metadata": {},
   "outputs": [],
   "source": [
    "# Create the ResNet model without the top (fully connected) layers\n",
    "base_model = ResNet50(weights='imagenet', include_top=False, input_shape=(32, 32, 3))\n",
    "    \n",
    "# Add the top layers for classification\n",
    "model = Sequential()\n",
    "model.add(base_model)\n",
    "model.add(GlobalAveragePooling2D())\n",
    "model.add(Dense(num_classes, activation='softmax'))\n",
    "\n",
    "model.compile(optimizer=Adam(learning_rate=0.001), loss='categorical_crossentropy', metrics=['accuracy'])\n",
    "\n",
    "# Split your data into training and validation sets\n",
    "X_train, X_valid, Y_train_categorical, Y_valid_categorical = train_test_split(X_train, Y_train_categorical, test_size=0.1, random_state=42)\n",
    "\n",
    "# Create tf.data.Dataset for training and validation data\n",
    "train_dataset = tf.data.Dataset.from_tensor_slices((X_train, Y_train_categorical))\n",
    "valid_dataset = tf.data.Dataset.from_tensor_slices((X_valid, Y_valid_categorical))\n",
    "\n",
    "# Define batch size and shuffle the datasets\n",
    "batch_size = 64\n",
    "train_dataset = train_dataset.shuffle(buffer_size=len(X_train)).batch(batch_size)\n",
    "valid_dataset = valid_dataset.batch(batch_size)"
   ]
  },
  {
   "cell_type": "code",
   "execution_count": 21,
   "id": "013f8666",
   "metadata": {},
   "outputs": [
    {
     "name": "stdout",
     "output_type": "stream",
     "text": [
      "Epoch 1/50\n",
      "2969/2969 [==============================] - 6271s 2s/step - loss: 0.3988 - accuracy: 0.8849 - val_loss: 0.3598 - val_accuracy: 0.8940\n",
      "Epoch 2/50\n",
      "2969/2969 [==============================] - 6150s 2s/step - loss: 0.3265 - accuracy: 0.9022 - val_loss: 0.3440 - val_accuracy: 0.8983\n",
      "Epoch 3/50\n",
      "2969/2969 [==============================] - 5756s 2s/step - loss: 0.3167 - accuracy: 0.9062 - val_loss: 0.3511 - val_accuracy: 0.9001\n",
      "Epoch 4/50\n",
      "2969/2969 [==============================] - 5756s 2s/step - loss: 0.2668 - accuracy: 0.9184 - val_loss: 0.2876 - val_accuracy: 0.9110\n",
      "Epoch 5/50\n",
      "2969/2969 [==============================] - 5748s 2s/step - loss: 0.2555 - accuracy: 0.9219 - val_loss: 0.7363 - val_accuracy: 0.8049\n",
      "Epoch 6/50\n",
      "2969/2969 [==============================] - 5761s 2s/step - loss: 0.2371 - accuracy: 0.9264 - val_loss: 0.8996 - val_accuracy: 0.6996\n",
      "Epoch 7/50\n",
      "2969/2969 [==============================] - 5769s 2s/step - loss: 0.2194 - accuracy: 0.9306 - val_loss: 0.2387 - val_accuracy: 0.9267\n",
      "Epoch 8/50\n",
      "2969/2969 [==============================] - 5737s 2s/step - loss: 0.2184 - accuracy: 0.9326 - val_loss: 0.4417 - val_accuracy: 0.8746\n",
      "Epoch 9/50\n",
      "2969/2969 [==============================] - 5761s 2s/step - loss: 0.2258 - accuracy: 0.9312 - val_loss: 0.2878 - val_accuracy: 0.9157\n",
      "Epoch 10/50\n",
      "2969/2969 [==============================] - 5765s 2s/step - loss: 0.2032 - accuracy: 0.9356 - val_loss: 0.3171 - val_accuracy: 0.9031\n",
      "Epoch 11/50\n",
      "2969/2969 [==============================] - 5811s 2s/step - loss: 0.2276 - accuracy: 0.9302 - val_loss: 0.3188 - val_accuracy: 0.9026\n",
      "Epoch 12/50\n",
      "2969/2969 [==============================] - 5779s 2s/step - loss: 0.2009 - accuracy: 0.9354 - val_loss: 0.2326 - val_accuracy: 0.9289\n",
      "Epoch 13/50\n",
      "2969/2969 [==============================] - 5787s 2s/step - loss: 0.1812 - accuracy: 0.9405 - val_loss: 0.3588 - val_accuracy: 0.8915\n",
      "Epoch 14/50\n",
      "2969/2969 [==============================] - 5895s 2s/step - loss: 0.1778 - accuracy: 0.9420 - val_loss: 0.3832 - val_accuracy: 0.8971\n",
      "Epoch 15/50\n",
      "2969/2969 [==============================] - 5755s 2s/step - loss: 0.1718 - accuracy: 0.9432 - val_loss: 1.4741 - val_accuracy: 0.5404\n",
      "Epoch 16/50\n",
      "2969/2969 [==============================] - 6163s 2s/step - loss: 0.1652 - accuracy: 0.9452 - val_loss: 0.5120 - val_accuracy: 0.8506\n",
      "Epoch 17/50\n",
      "2969/2969 [==============================] - 6475s 2s/step - loss: 0.1595 - accuracy: 0.9468 - val_loss: 3.0563 - val_accuracy: 0.1781\n",
      "Epoch 18/50\n",
      "2969/2969 [==============================] - 13221s 4s/step - loss: 0.1587 - accuracy: 0.9469 - val_loss: 0.4292 - val_accuracy: 0.8874\n",
      "Epoch 19/50\n",
      "2969/2969 [==============================] - 14025s 5s/step - loss: 0.1632 - accuracy: 0.9468 - val_loss: 0.2403 - val_accuracy: 0.9245\n",
      "Epoch 20/50\n",
      "2969/2969 [==============================] - 13871s 5s/step - loss: 0.1704 - accuracy: 0.9440 - val_loss: 0.2171 - val_accuracy: 0.9333\n",
      "Epoch 21/50\n",
      "2969/2969 [==============================] - 13963s 5s/step - loss: 0.1448 - accuracy: 0.9522 - val_loss: 0.2259 - val_accuracy: 0.9327\n",
      "Epoch 22/50\n",
      "2969/2969 [==============================] - 7733s 3s/step - loss: 0.1335 - accuracy: 0.9541 - val_loss: 0.3291 - val_accuracy: 0.9052\n",
      "Epoch 23/50\n",
      "2969/2969 [==============================] - 6281s 2s/step - loss: 0.1600 - accuracy: 0.9491 - val_loss: 0.7091 - val_accuracy: 0.7957\n",
      "Epoch 24/50\n",
      "2969/2969 [==============================] - 5865s 2s/step - loss: 0.1417 - accuracy: 0.9521 - val_loss: 0.2748 - val_accuracy: 0.9242\n",
      "Epoch 25/50\n",
      "2969/2969 [==============================] - 6353s 2s/step - loss: 0.1772 - accuracy: 0.9455 - val_loss: 2.1060 - val_accuracy: 0.9259\n",
      "Epoch 26/50\n",
      "2969/2969 [==============================] - 6102s 2s/step - loss: 0.2644 - accuracy: 0.9281 - val_loss: 0.3585 - val_accuracy: 0.8893\n",
      "Epoch 27/50\n",
      "2969/2969 [==============================] - 5786s 2s/step - loss: 0.1701 - accuracy: 0.9465 - val_loss: 1.3827 - val_accuracy: 0.5536\n",
      "Epoch 28/50\n",
      "2969/2969 [==============================] - 5768s 2s/step - loss: 0.1347 - accuracy: 0.9543 - val_loss: 557.0790 - val_accuracy: 0.4480\n",
      "Epoch 29/50\n",
      "2969/2969 [==============================] - 5766s 2s/step - loss: 0.1290 - accuracy: 0.9557 - val_loss: 0.3402 - val_accuracy: 0.9033\n",
      "Epoch 30/50\n",
      "2969/2969 [==============================] - 5817s 2s/step - loss: 0.1258 - accuracy: 0.9566 - val_loss: 0.3101 - val_accuracy: 0.9208\n",
      "Epoch 31/50\n",
      "2969/2969 [==============================] - 5806s 2s/step - loss: 0.1245 - accuracy: 0.9580 - val_loss: 0.7792 - val_accuracy: 0.7794\n",
      "Epoch 32/50\n",
      "2969/2969 [==============================] - 5777s 2s/step - loss: 0.1281 - accuracy: 0.9577 - val_loss: 0.3561 - val_accuracy: 0.9077\n",
      "Epoch 33/50\n",
      "2969/2969 [==============================] - 5751s 2s/step - loss: 0.1647 - accuracy: 0.9450 - val_loss: 0.2567 - val_accuracy: 0.9268\n",
      "Epoch 34/50\n",
      "2969/2969 [==============================] - 5761s 2s/step - loss: 0.1133 - accuracy: 0.9597 - val_loss: 0.3483 - val_accuracy: 0.9134\n",
      "Epoch 35/50\n",
      "2969/2969 [==============================] - 5778s 2s/step - loss: 0.1071 - accuracy: 0.9615 - val_loss: 0.3044 - val_accuracy: 0.9238\n",
      "Epoch 36/50\n",
      "2969/2969 [==============================] - 5760s 2s/step - loss: 0.1098 - accuracy: 0.9624 - val_loss: 1.5153 - val_accuracy: 0.5372\n",
      "Epoch 37/50\n",
      "2969/2969 [==============================] - 5765s 2s/step - loss: 0.1073 - accuracy: 0.9620 - val_loss: 3.4474 - val_accuracy: 0.9088\n",
      "Epoch 38/50\n",
      "2969/2969 [==============================] - 5886s 2s/step - loss: 0.1193 - accuracy: 0.9589 - val_loss: 46.7812 - val_accuracy: 0.9222\n",
      "Epoch 39/50\n",
      "2969/2969 [==============================] - 5749s 2s/step - loss: 0.2207 - accuracy: 0.9339 - val_loss: 0.2699 - val_accuracy: 0.9181\n",
      "Epoch 40/50\n",
      "2969/2969 [==============================] - 5763s 2s/step - loss: 0.2105 - accuracy: 0.9370 - val_loss: 0.2361 - val_accuracy: 0.9306\n",
      "Epoch 41/50\n",
      "2969/2969 [==============================] - 5745s 2s/step - loss: 0.1612 - accuracy: 0.9472 - val_loss: 0.2357 - val_accuracy: 0.9325\n",
      "Epoch 42/50\n",
      "2969/2969 [==============================] - 5755s 2s/step - loss: 0.1329 - accuracy: 0.9556 - val_loss: 0.2524 - val_accuracy: 0.9334\n",
      "Epoch 43/50\n",
      "2969/2969 [==============================] - 5744s 2s/step - loss: 0.1126 - accuracy: 0.9614 - val_loss: 0.2956 - val_accuracy: 0.9291\n",
      "Epoch 44/50\n",
      "2969/2969 [==============================] - 5736s 2s/step - loss: 0.1074 - accuracy: 0.9618 - val_loss: 0.2974 - val_accuracy: 0.9189\n",
      "Epoch 45/50\n",
      "2969/2969 [==============================] - 5757s 2s/step - loss: 0.1151 - accuracy: 0.9600 - val_loss: 0.2748 - val_accuracy: 0.9301\n",
      "Epoch 46/50\n",
      "2969/2969 [==============================] - 5757s 2s/step - loss: 0.1229 - accuracy: 0.9592 - val_loss: 107.0991 - val_accuracy: 0.9104\n",
      "Epoch 47/50\n",
      "2969/2969 [==============================] - 5751s 2s/step - loss: 0.1047 - accuracy: 0.9642 - val_loss: 0.9748 - val_accuracy: 0.9310\n",
      "Epoch 48/50\n",
      "2969/2969 [==============================] - 5750s 2s/step - loss: 0.0941 - accuracy: 0.9672 - val_loss: 0.3310 - val_accuracy: 0.9199\n",
      "Epoch 49/50\n",
      "2969/2969 [==============================] - 5757s 2s/step - loss: 0.1170 - accuracy: 0.9620 - val_loss: 0.2858 - val_accuracy: 0.9266\n",
      "Epoch 50/50\n",
      "2969/2969 [==============================] - 5768s 2s/step - loss: 0.0922 - accuracy: 0.9674 - val_loss: 0.3058 - val_accuracy: 0.9312\n"
     ]
    },
    {
     "data": {
      "text/plain": [
       "<keras.callbacks.History at 0x22a2f4ea700>"
      ]
     },
     "execution_count": 21,
     "metadata": {},
     "output_type": "execute_result"
    }
   ],
   "source": [
    "# Training the model\n",
    "epochs = 50\n",
    "model.fit(train_dataset, epochs=epochs, validation_data=valid_dataset)\n"
   ]
  },
  {
   "cell_type": "code",
   "execution_count": 22,
   "id": "51587094",
   "metadata": {},
   "outputs": [
    {
     "name": "stdout",
     "output_type": "stream",
     "text": [
      "Accuracy: 0.000625319765789324\n",
      "F1 Score: 0.0010614965105134187\n"
     ]
    }
   ],
   "source": [
    "\n",
    "from sklearn.metrics import accuracy_score, f1_score\n",
    "\n",
    "# Evaluate the model on the test dataset\n",
    "test_dataset = tf.data.Dataset.from_tensor_slices((X_test, Y_test_categorical))\n",
    "test_dataset = test_dataset.batch(batch_size)\n",
    "\n",
    "# Use the model to make predictions on the test dataset\n",
    "y_pred = model.predict(test_dataset)\n",
    "\n",
    "# Convert one-hot encoded predictions back to class labels\n",
    "y_pred_labels = np.argmax(y_pred, axis=1)\n",
    "\n",
    "# Calculate accuracy\n",
    "accuracy = accuracy_score(Y_test, y_pred_labels)\n",
    "\n",
    "# Calculate F1 score\n",
    "f1 = f1_score(Y_test, y_pred_labels, average='weighted')  # You can specify the averaging method\n",
    "\n",
    "# Print accuracy and F1 score\n",
    "print(\"Accuracy:\", accuracy)\n",
    "print(\"F1 Score:\", f1)"
   ]
  },
  {
   "cell_type": "code",
   "execution_count": null,
   "id": "e4b05cfd",
   "metadata": {},
   "outputs": [],
   "source": []
  }
 ],
 "metadata": {
  "kernelspec": {
   "display_name": "Python 3",
   "language": "python",
   "name": "python3"
  },
  "language_info": {
   "codemirror_mode": {
    "name": "ipython",
    "version": 3
   },
   "file_extension": ".py",
   "mimetype": "text/x-python",
   "name": "python",
   "nbconvert_exporter": "python",
   "pygments_lexer": "ipython3",
   "version": "3.8.8"
  }
 },
 "nbformat": 4,
 "nbformat_minor": 5
}
