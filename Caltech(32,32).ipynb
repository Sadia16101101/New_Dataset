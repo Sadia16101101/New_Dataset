{
 "cells": [
  {
   "cell_type": "code",
   "execution_count": 1,
   "id": "6efb0411",
   "metadata": {},
   "outputs": [
    {
     "name": "stdout",
     "output_type": "stream",
     "text": [
      "\u001b[1mDownloading and preparing dataset Unknown size (download: Unknown size, generated: Unknown size, total: Unknown size) to C:\\Users\\sadia_tisha1\\tensorflow_datasets\\caltech101\\3.0.1...\u001b[0m\n"
     ]
    },
    {
     "data": {
      "application/vnd.jupyter.widget-view+json": {
       "model_id": "ab7b841350a64ddf91da3e37cee47ea7",
       "version_major": 2,
       "version_minor": 0
      },
      "text/plain": [
       "Dl Completed...: 0 url [00:00, ? url/s]"
      ]
     },
     "metadata": {},
     "output_type": "display_data"
    },
    {
     "data": {
      "application/vnd.jupyter.widget-view+json": {
       "model_id": "213bd669df854b5781c58fc3544290b4",
       "version_major": 2,
       "version_minor": 0
      },
      "text/plain": [
       "Dl Size...: 0 MiB [00:00, ? MiB/s]"
      ]
     },
     "metadata": {},
     "output_type": "display_data"
    },
    {
     "data": {
      "application/vnd.jupyter.widget-view+json": {
       "model_id": "b884d8bbe72541b8804997487f305f28",
       "version_major": 2,
       "version_minor": 0
      },
      "text/plain": [
       "Extraction completed...: 0 file [00:00, ? file/s]"
      ]
     },
     "metadata": {},
     "output_type": "display_data"
    },
    {
     "data": {
      "application/vnd.jupyter.widget-view+json": {
       "model_id": "",
       "version_major": 2,
       "version_minor": 0
      },
      "text/plain": [
       "Generating splits...:   0%|          | 0/2 [00:00<?, ? splits/s]"
      ]
     },
     "metadata": {},
     "output_type": "display_data"
    },
    {
     "data": {
      "application/vnd.jupyter.widget-view+json": {
       "model_id": "",
       "version_major": 2,
       "version_minor": 0
      },
      "text/plain": [
       "Generating train examples...: 0 examples [00:00, ? examples/s]"
      ]
     },
     "metadata": {},
     "output_type": "display_data"
    },
    {
     "data": {
      "application/vnd.jupyter.widget-view+json": {
       "model_id": "",
       "version_major": 2,
       "version_minor": 0
      },
      "text/plain": [
       "Shuffling C:\\Users\\sadia_tisha1\\tensorflow_datasets\\caltech101\\3.0.1.incompleteI3D7OE\\caltech101-train.tfrecor…"
      ]
     },
     "metadata": {},
     "output_type": "display_data"
    },
    {
     "data": {
      "application/vnd.jupyter.widget-view+json": {
       "model_id": "",
       "version_major": 2,
       "version_minor": 0
      },
      "text/plain": [
       "Generating test examples...: 0 examples [00:00, ? examples/s]"
      ]
     },
     "metadata": {},
     "output_type": "display_data"
    },
    {
     "data": {
      "application/vnd.jupyter.widget-view+json": {
       "model_id": "",
       "version_major": 2,
       "version_minor": 0
      },
      "text/plain": [
       "Shuffling C:\\Users\\sadia_tisha1\\tensorflow_datasets\\caltech101\\3.0.1.incompleteI3D7OE\\caltech101-test.tfrecord…"
      ]
     },
     "metadata": {},
     "output_type": "display_data"
    },
    {
     "name": "stdout",
     "output_type": "stream",
     "text": [
      "\u001b[1mDataset caltech101 downloaded and prepared to C:\\Users\\sadia_tisha1\\tensorflow_datasets\\caltech101\\3.0.1. Subsequent calls will reuse this data.\u001b[0m\n",
      "Images shape: (64, 32, 32, 3)\n",
      "Labels shape: (64, 101)\n",
      "Images shape: (64, 32, 32, 3)\n",
      "Labels shape: (64, 101)\n"
     ]
    }
   ],
   "source": [
    "import tensorflow as tf\n",
    "import tensorflow_datasets as tfds\n",
    "\n",
    "# Load the Oxford-IIIT Pet dataset\n",
    "(ds_train, ds_test), ds_info = tfds.load('caltech101', split=['train', 'test'], as_supervised=True, with_info=True)\n",
    "\n",
    "# Define a function to resize images\n",
    "def resize_image(image, label):\n",
    "    image = tf.image.resize(image, (32, 32))\n",
    "    return image, label\n",
    "\n",
    "# Apply resizing to the dataset\n",
    "ds_train = ds_train.map(resize_image)\n",
    "ds_test = ds_test.map(resize_image)\n",
    "\n",
    "# Normalize pixel values to be in the range [0, 1]\n",
    "ds_train = ds_train.map(lambda x, y: (tf.cast(x, tf.float32) / 255.0, y))\n",
    "ds_test = ds_test.map(lambda x, y: (tf.cast(x, tf.float32) / 255.0, y))\n",
    "\n",
    "# Shuffle and batch the datasets\n",
    "ds_train = ds_train.shuffle(10000).batch(64)\n",
    "ds_test = ds_test.batch(64)\n",
    "\n",
    "# Convert labels to categorical format\n",
    "def categorical_labels(images, labels):\n",
    "    return images, tf.one_hot(labels, depth=101)  \n",
    "ds_train = ds_train.map(categorical_labels)\n",
    "ds_test = ds_test.map(categorical_labels)\n",
    "\n",
    "# Verify the shapes\n",
    "for images, labels in ds_train.take(1):\n",
    "    print(\"Images shape:\", images.shape)\n",
    "    print(\"Labels shape:\", labels.shape)\n",
    "\n",
    "for images, labels in ds_test.take(1):\n",
    "    print(\"Images shape:\", images.shape)\n",
    "    print(\"Labels shape:\", labels.shape)\n"
   ]
  },
  {
   "cell_type": "code",
   "execution_count": 3,
   "id": "91a129e4",
   "metadata": {},
   "outputs": [
    {
     "name": "stdout",
     "output_type": "stream",
     "text": [
      "Epoch 1/50\n",
      "48/48 [==============================] - 167s 3s/step - loss: 4.9561 - accuracy: 0.0879\n",
      "Epoch 2/50\n",
      "48/48 [==============================] - 215s 4s/step - loss: 3.7307 - accuracy: 0.2249\n",
      "Epoch 3/50\n",
      "48/48 [==============================] - 204s 4s/step - loss: 3.3236 - accuracy: 0.2945\n",
      "Epoch 4/50\n",
      "48/48 [==============================] - 204s 4s/step - loss: 2.9345 - accuracy: 0.3857\n",
      "Epoch 5/50\n",
      "48/48 [==============================] - 206s 4s/step - loss: 2.3783 - accuracy: 0.5021\n",
      "Epoch 6/50\n",
      "48/48 [==============================] - 203s 4s/step - loss: 2.1349 - accuracy: 0.5793\n",
      "Epoch 7/50\n",
      "48/48 [==============================] - 202s 4s/step - loss: 1.9424 - accuracy: 0.6646\n",
      "Epoch 8/50\n",
      "48/48 [==============================] - 199s 4s/step - loss: 1.6507 - accuracy: 0.6943\n",
      "Epoch 9/50\n",
      "48/48 [==============================] - 204s 4s/step - loss: 2.2859 - accuracy: 0.5999\n",
      "Epoch 10/50\n",
      "48/48 [==============================] - 205s 4s/step - loss: 2.7569 - accuracy: 0.5361\n",
      "Epoch 11/50\n",
      "48/48 [==============================] - 212s 4s/step - loss: 3.5987 - accuracy: 0.3805\n",
      "Epoch 12/50\n",
      "48/48 [==============================] - 201s 4s/step - loss: 3.3868 - accuracy: 0.4090\n",
      "Epoch 13/50\n",
      "48/48 [==============================] - 205s 4s/step - loss: 3.1792 - accuracy: 0.3893\n",
      "Epoch 14/50\n",
      "48/48 [==============================] - 202s 4s/step - loss: 3.8376 - accuracy: 0.3652\n",
      "Epoch 15/50\n",
      "48/48 [==============================] - 205s 4s/step - loss: 3.5403 - accuracy: 0.3759\n",
      "Epoch 16/50\n",
      "48/48 [==============================] - 203s 4s/step - loss: 3.1540 - accuracy: 0.4436\n",
      "Epoch 17/50\n",
      "48/48 [==============================] - 206s 4s/step - loss: 4.1675 - accuracy: 0.3978\n",
      "Epoch 18/50\n",
      "48/48 [==============================] - 203s 4s/step - loss: 3.0456 - accuracy: 0.4099\n",
      "Epoch 19/50\n",
      "48/48 [==============================] - 204s 4s/step - loss: 3.8981 - accuracy: 0.3995\n",
      "Epoch 20/50\n",
      "48/48 [==============================] - 206s 4s/step - loss: 4.0930 - accuracy: 0.4479\n",
      "Epoch 21/50\n",
      "48/48 [==============================] - 202s 4s/step - loss: 2.9783 - accuracy: 0.4740\n",
      "Epoch 22/50\n",
      "48/48 [==============================] - 203s 4s/step - loss: 2.1816 - accuracy: 0.5476\n",
      "Epoch 23/50\n",
      "48/48 [==============================] - 203s 4s/step - loss: 2.3989 - accuracy: 0.5734\n",
      "Epoch 24/50\n",
      "48/48 [==============================] - 207s 4s/step - loss: 2.1589 - accuracy: 0.6071\n",
      "Epoch 25/50\n",
      "48/48 [==============================] - 206s 4s/step - loss: 2.4256 - accuracy: 0.5878\n",
      "Epoch 26/50\n",
      "48/48 [==============================] - 203s 4s/step - loss: 2.3494 - accuracy: 0.5417\n",
      "Epoch 27/50\n",
      "48/48 [==============================] - 206s 4s/step - loss: 2.5969 - accuracy: 0.5257\n",
      "Epoch 28/50\n",
      "48/48 [==============================] - 205s 4s/step - loss: 2.4826 - accuracy: 0.5937\n",
      "Epoch 29/50\n",
      "48/48 [==============================] - 201s 4s/step - loss: 5.3516 - accuracy: 0.3096\n",
      "Epoch 30/50\n",
      "48/48 [==============================] - 203s 4s/step - loss: 5.0753 - accuracy: 0.2887\n",
      "Epoch 31/50\n",
      "48/48 [==============================] - 202s 4s/step - loss: 4.3856 - accuracy: 0.3776\n",
      "Epoch 32/50\n",
      "48/48 [==============================] - 204s 4s/step - loss: 3.6499 - accuracy: 0.4410\n",
      "Epoch 33/50\n",
      "48/48 [==============================] - 204s 4s/step - loss: 3.6195 - accuracy: 0.4531\n",
      "Epoch 34/50\n",
      "48/48 [==============================] - 200s 4s/step - loss: 3.9826 - accuracy: 0.3877\n",
      "Epoch 35/50\n",
      "48/48 [==============================] - 199s 4s/step - loss: 4.9101 - accuracy: 0.3769\n",
      "Epoch 36/50\n",
      "48/48 [==============================] - 208s 4s/step - loss: 6.1883 - accuracy: 0.2282\n",
      "Epoch 37/50\n",
      "48/48 [==============================] - 202s 4s/step - loss: 6.3170 - accuracy: 0.3057\n",
      "Epoch 38/50\n",
      "48/48 [==============================] - 202s 4s/step - loss: 6.8790 - accuracy: 0.3419\n",
      "Epoch 39/50\n",
      "48/48 [==============================] - 196s 4s/step - loss: 7.7342 - accuracy: 0.2648\n",
      "Epoch 40/50\n",
      "48/48 [==============================] - 208s 4s/step - loss: 7.7081 - accuracy: 0.2386\n",
      "Epoch 41/50\n",
      "48/48 [==============================] - 202s 4s/step - loss: 6.5795 - accuracy: 0.2802\n",
      "Epoch 42/50\n",
      "48/48 [==============================] - 200s 4s/step - loss: 6.9503 - accuracy: 0.3491\n",
      "Epoch 43/50\n",
      "48/48 [==============================] - 203s 4s/step - loss: 6.5414 - accuracy: 0.3969\n",
      "Epoch 44/50\n",
      "48/48 [==============================] - 206s 4s/step - loss: 6.0692 - accuracy: 0.4126\n",
      "Epoch 45/50\n",
      "48/48 [==============================] - 205s 4s/step - loss: 6.5161 - accuracy: 0.2851\n",
      "Epoch 46/50\n",
      "48/48 [==============================] - 199s 4s/step - loss: 5.8620 - accuracy: 0.3145\n",
      "Epoch 47/50\n",
      "48/48 [==============================] - 197s 4s/step - loss: 6.1593 - accuracy: 0.3550\n",
      "Epoch 48/50\n",
      "48/48 [==============================] - 204s 4s/step - loss: 5.6558 - accuracy: 0.3861\n",
      "Epoch 49/50\n",
      "48/48 [==============================] - 206s 4s/step - loss: 7.3274 - accuracy: 0.4184\n",
      "Epoch 50/50\n",
      "48/48 [==============================] - 200s 4s/step - loss: 6.2156 - accuracy: 0.4109\n"
     ]
    },
    {
     "data": {
      "text/plain": [
       "<keras.callbacks.History at 0x2215dcd6ca0>"
      ]
     },
     "execution_count": 3,
     "metadata": {},
     "output_type": "execute_result"
    }
   ],
   "source": [
    "import tensorflow as tf\n",
    "from tensorflow.keras.applications import ResNet50\n",
    "from tensorflow.keras.models import Sequential\n",
    "from tensorflow.keras.layers import Dense, GlobalAveragePooling2D\n",
    "from tensorflow.keras.optimizers import Adam\n",
    "from tensorflow.keras.preprocessing.image import ImageDataGenerator\n",
    "import os\n",
    "from PIL import Image\n",
    "import numpy as np\n",
    "from sklearn.preprocessing import LabelEncoder\n",
    "from tensorflow.keras.utils import to_categorical\n",
    "\n",
    "\n",
    "# Create the ResNet model without the top (fully connected) layers\n",
    "base_model = ResNet50(weights='imagenet', include_top=False, input_shape=(32, 32, 3))\n",
    "    \n",
    "# Add the top layers for classification\n",
    "model = Sequential()\n",
    "model.add(base_model)\n",
    "model.add(GlobalAveragePooling2D())\n",
    "model.add(Dense(101, activation='softmax'))  # Change the number of units and activation\n",
    "model.compile(optimizer=Adam(learning_rate=0.001), loss='categorical_crossentropy', metrics=['accuracy'])\n",
    "model.fit(ds_train, batch_size=64, epochs=50)"
   ]
  },
  {
   "cell_type": "code",
   "execution_count": 4,
   "id": "d7b29618",
   "metadata": {},
   "outputs": [
    {
     "name": "stdout",
     "output_type": "stream",
     "text": [
      "Test Accuracy: 0.13853738701725554\n",
      "Accuracy: 0.13853738701725554\n",
      "F1 Score: 0.15907598646576115\n"
     ]
    }
   ],
   "source": [
    "from sklearn.metrics import accuracy_score, f1_score, confusion_matrix\n",
    "\n",
    "# Make predictions on the test dataset\n",
    "predictions = model.predict(ds_test)\n",
    "\n",
    "# Convert one-hot encoded predictions back to class labels\n",
    "predicted_labels = np.argmax(predictions, axis=1)\n",
    "\n",
    "# Manually generate ground truth labels for evaluation\n",
    "true_labels = []\n",
    "for _, label in ds_test:\n",
    "    true_labels.extend(label.numpy())\n",
    "\n",
    "true_labels = np.argmax(true_labels, axis=1)\n",
    "\n",
    "# Calculate accuracy\n",
    "accuracy = accuracy_score(true_labels, predicted_labels)\n",
    "\n",
    "# Calculate F1 score\n",
    "f1 = f1_score(true_labels, predicted_labels, average='weighted')\n",
    "\n",
    "# Calculate confusion matrix\n",
    "conf_matrix = confusion_matrix(true_labels, predicted_labels)\n",
    "\n",
    "# Assuming you have test_loss and test_accuracy available\n",
    "# If not, you'll need to calculate them based on your model and test dataset\n",
    "print(f\"Test Accuracy: {accuracy}\")\n",
    "print(f\"Accuracy: {accuracy}\")\n",
    "print(f\"F1 Score: {f1}\")\n"
   ]
  },
  {
   "cell_type": "code",
   "execution_count": null,
   "id": "2925df83",
   "metadata": {},
   "outputs": [],
   "source": []
  },
  {
   "cell_type": "code",
   "execution_count": null,
   "id": "682f9447",
   "metadata": {},
   "outputs": [],
   "source": []
  },
  {
   "cell_type": "code",
   "execution_count": null,
   "id": "74d19d42",
   "metadata": {},
   "outputs": [],
   "source": []
  },
  {
   "cell_type": "code",
   "execution_count": null,
   "id": "606146b1",
   "metadata": {},
   "outputs": [],
   "source": []
  },
  {
   "cell_type": "code",
   "execution_count": null,
   "id": "095ba2ab",
   "metadata": {},
   "outputs": [],
   "source": []
  },
  {
   "cell_type": "code",
   "execution_count": null,
   "id": "a9efd4eb",
   "metadata": {},
   "outputs": [],
   "source": []
  },
  {
   "cell_type": "code",
   "execution_count": null,
   "id": "287aff3f",
   "metadata": {},
   "outputs": [],
   "source": []
  },
  {
   "cell_type": "code",
   "execution_count": null,
   "id": "7e68d10e",
   "metadata": {},
   "outputs": [],
   "source": []
  },
  {
   "cell_type": "code",
   "execution_count": null,
   "id": "de2851ea",
   "metadata": {},
   "outputs": [],
   "source": []
  },
  {
   "cell_type": "code",
   "execution_count": null,
   "id": "43165ad8",
   "metadata": {},
   "outputs": [],
   "source": []
  },
  {
   "cell_type": "code",
   "execution_count": null,
   "id": "ce09e57c",
   "metadata": {},
   "outputs": [],
   "source": []
  },
  {
   "cell_type": "code",
   "execution_count": null,
   "id": "47e6ead7",
   "metadata": {},
   "outputs": [],
   "source": []
  }
 ],
 "metadata": {
  "kernelspec": {
   "display_name": "Python 3 (ipykernel)",
   "language": "python",
   "name": "python3"
  },
  "language_info": {
   "codemirror_mode": {
    "name": "ipython",
    "version": 3
   },
   "file_extension": ".py",
   "mimetype": "text/x-python",
   "name": "python",
   "nbconvert_exporter": "python",
   "pygments_lexer": "ipython3",
   "version": "3.8.8"
  }
 },
 "nbformat": 4,
 "nbformat_minor": 5
}
