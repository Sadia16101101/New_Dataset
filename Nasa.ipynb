{
 "cells": [
  {
   "cell_type": "code",
   "execution_count": 7,
   "id": "08fa2888",
   "metadata": {},
   "outputs": [],
   "source": [
    "import tensorflow as tf\n",
    "from tensorflow import keras\n",
    "from tensorflow.keras.applications import MobileNet\n",
    "from tensorflow.keras.models import Sequential\n",
    "from tensorflow.keras.layers import Dense, GlobalAveragePooling2D\n",
    "from tensorflow.keras.optimizers import Adam\n",
    "from tensorflow.keras.preprocessing.image import ImageDataGenerator"
   ]
  },
  {
   "cell_type": "code",
   "execution_count": 10,
   "id": "d6fb6775",
   "metadata": {},
   "outputs": [],
   "source": [
    "import os\n",
    "import pandas as pd\n",
    "from PIL import Image\n",
    "import numpy as np\n",
    "from sklearn.preprocessing import LabelEncoder\n",
    "\n",
    "# Define the paths to your dataset\n",
    "dataset_dir = \"/Users/sadianasrintisha/Desktop/Dataset/NASA Worldview./understanding_cloud_organization\"\n",
    "train_images_dir = os.path.join(dataset_dir, \"train_images\")\n",
    "test_images_dir = os.path.join(dataset_dir, \"test_images\")\n",
    "train_csv_path = os.path.join(dataset_dir, \"train.csv\")\n",
    "\n",
    "# Create empty lists to store images and labels\n",
    "X_train = []\n",
    "Y_train = []\n",
    "X_test = []\n",
    "Y_test = []  # Placeholder for test labels\n",
    "\n",
    "# Read the CSV file to get image-label pairs\n",
    "df = pd.read_csv(train_csv_path)\n",
    "\n",
    "# Function to read, resize, and append images to X_train and labels to Y_train\n",
    "def process_images_and_labels(image_dir, label_df, label_encoder, is_test=False):\n",
    "    for index, row in label_df.iterrows():\n",
    "        image_path = os.path.join(image_dir, row['Image_Label'].split('_')[0])\n",
    "        image = Image.open(image_path).convert(\"RGB\")\n",
    "        image = image.resize((32, 32))\n",
    "        image_array = np.array(image)\n",
    "        \n",
    "        if is_test:\n",
    "            X_test.append(image_array)\n",
    "            # For test data, you can use a placeholder or any appropriate label.\n",
    "            Y_test.append(0)  # Placeholder label for test images\n",
    "        else:\n",
    "            X_train.append(image_array)\n",
    "            label = row['EncodedPixels'] if not pd.isna(row['EncodedPixels']) else '0'\n",
    "            Y_train.append(label_encoder.transform([label])[0])\n",
    "\n",
    "# Initialize the label encoder\n",
    "label_encoder = LabelEncoder()\n",
    "label_encoder.fit(df['EncodedPixels'].fillna('0'))\n",
    "\n",
    "# Process the training images and labels\n",
    "process_images_and_labels(train_images_dir, df, label_encoder)\n",
    "\n",
    "# Process the test images\n",
    "test_image_files = os.listdir(test_images_dir)\n",
    "process_images_and_labels(test_images_dir, pd.DataFrame({'Image_Label': test_image_files}), label_encoder, is_test=True)\n",
    "\n",
    "# Convert lists to numpy arrays\n",
    "X_train = np.array(X_train)\n",
    "Y_train = np.array(Y_train)\n",
    "X_test = np.array(X_test)\n",
    "Y_test = np.array(Y_test)\n"
   ]
  },
  {
   "cell_type": "code",
   "execution_count": 31,
   "id": "065eca79",
   "metadata": {},
   "outputs": [
    {
     "name": "stdout",
     "output_type": "stream",
     "text": [
      "Shape of X_train: (22184, 32, 32, 3)\n",
      "Shape of Y_train: (22184,)\n",
      "Shape of X_test: (3698, 32, 32, 3)\n",
      "Shape of Y_test: (3698,)\n"
     ]
    }
   ],
   "source": [
    "print(\"Shape of X_train:\", X_train.shape)\n",
    "print(\"Shape of Y_train:\", Y_train.shape)\n",
    "print(\"Shape of X_test:\", X_test.shape)\n",
    "print(\"Shape of Y_test:\", Y_test.shape)"
   ]
  },
  {
   "cell_type": "code",
   "execution_count": 32,
   "id": "06ba483b",
   "metadata": {},
   "outputs": [],
   "source": [
    "from tensorflow.keras.applications import ResNet50\n",
    "from tensorflow.keras.models import Sequential\n",
    "from tensorflow.keras.layers import Dense, GlobalAveragePooling2D"
   ]
  },
  {
   "cell_type": "code",
   "execution_count": 33,
   "id": "945fde13",
   "metadata": {},
   "outputs": [
    {
     "name": "stderr",
     "output_type": "stream",
     "text": [
      "WARNING:absl:At this time, the v2.11+ optimizer `tf.keras.optimizers.Adam` runs slowly on M1/M2 Macs, please use the legacy Keras optimizer instead, located at `tf.keras.optimizers.legacy.Adam`.\n",
      "WARNING:absl:There is a known slowdown when using v2.11+ Keras optimizers on M1/M2 Macs. Falling back to the legacy Keras optimizer, i.e., `tf.keras.optimizers.legacy.Adam`.\n"
     ]
    }
   ],
   "source": [
    "import os\n",
    "import pandas as pd\n",
    "from PIL import Image\n",
    "import numpy as np\n",
    "from sklearn.preprocessing import LabelEncoder\n",
    "from sklearn.model_selection import train_test_split\n",
    "from keras.utils import to_categorical\n",
    "from keras.applications import ResNet50\n",
    "from keras.models import Sequential\n",
    "from keras.layers import GlobalAveragePooling2D, Dense\n",
    "from keras.optimizers import Adam\n",
    "from keras.utils import to_categorical  # Add this import\n",
    "\n",
    "label_encoder = LabelEncoder()\n",
    "Y_train_encoded = label_encoder.fit_transform(Y_train)\n",
    "\n",
    "# Use to_categorical to one-hot encode the integer labels\n",
    "num_classes = len(label_encoder.classes_)  # Number of unique classes\n",
    "Y_train_one_hot = to_categorical(Y_train_encoded, num_classes=num_classes)\n",
    "\n",
    "# Split your training data into training and validation sets\n",
    "X_train, X_val, Y_train_one_hot, Y_val_one_hot = train_test_split(\n",
    "    X_train, Y_train_one_hot, test_size=0.2, random_state=42\n",
    ")\n",
    "\n",
    "\n",
    "# Create the ResNet model without the top (fully connected) layers\n",
    "base_model = ResNet50(weights='imagenet', include_top=False, input_shape=(32, 32, 3))\n",
    "    \n",
    "# Add the top layers for classification\n",
    "model = Sequential()\n",
    "model.add(base_model)\n",
    "model.add(GlobalAveragePooling2D())\n",
    "model.add(Dense(num_classes, activation='softmax'))  # Change the number of units and activation\n",
    "model.compile(optimizer=Adam(learning_rate=0.001), loss='categorical_crossentropy', metrics=['accuracy'])\n",
    "\n"
   ]
  },
  {
   "cell_type": "code",
   "execution_count": 34,
   "id": "f83c1011",
   "metadata": {},
   "outputs": [
    {
     "name": "stdout",
     "output_type": "stream",
     "text": [
      "278/278 [==============================] - 153s 547ms/step - loss: 6.3635 - accuracy: 0.4640 - val_loss: 56.1090 - val_accuracy: 0.4591\n"
     ]
    },
    {
     "data": {
      "text/plain": [
       "<keras.src.callbacks.History at 0x2cf166c50>"
      ]
     },
     "execution_count": 34,
     "metadata": {},
     "output_type": "execute_result"
    }
   ],
   "source": [
    "model.fit(X_train, Y_train_one_hot, batch_size=64, epochs=1, validation_data=(X_val, Y_val_one_hot))\n"
   ]
  },
  {
   "cell_type": "code",
   "execution_count": 39,
   "id": "083c2894",
   "metadata": {},
   "outputs": [
    {
     "name": "stdout",
     "output_type": "stream",
     "text": [
      "116/116 [==============================] - 4s 37ms/step\n",
      "Accuracy: 1.0\n",
      "F1 Score (Micro): 1.0\n"
     ]
    }
   ],
   "source": [
    "import numpy as np\n",
    "from sklearn.metrics import accuracy_score, f1_score\n",
    "\n",
    "# Assuming you have trained a model and obtained predicted probabilities on X_test\n",
    "y_pred_prob = model.predict(X_test)\n",
    "\n",
    "# Convert predicted probabilities to predicted labels\n",
    "y_pred = np.argmax(y_pred_prob, axis=1)\n",
    "\n",
    "# One-hot encode the true labels in Y_test if it's not already one-hot encoded\n",
    "if len(Y_test.shape) == 1:  # Check if Y_test is 1D\n",
    "    num_classes = len(np.unique(Y_test))\n",
    "    Y_test_encoded = np.zeros((len(Y_test), num_classes))\n",
    "    Y_test_encoded[np.arange(len(Y_test)), Y_test] = 1\n",
    "else:\n",
    "    Y_test_encoded = Y_test  # Y_test is already one-hot encoded\n",
    "\n",
    "# Convert Y_test_encoded to predicted labels format\n",
    "y_test_labels = np.argmax(Y_test_encoded, axis=1)\n",
    "\n",
    "# Calculate accuracy\n",
    "accuracy = accuracy_score(y_test_labels, y_pred)\n",
    "print(\"Accuracy:\", accuracy)\n",
    "\n",
    "# Calculate F1 score (micro-average)\n",
    "f1_micro = f1_score(y_test_labels, y_pred, average='micro')\n",
    "print(\"F1 Score (Micro):\", f1_micro)"
   ]
  },
  {
   "cell_type": "code",
   "execution_count": null,
   "id": "72e2e0e1",
   "metadata": {},
   "outputs": [],
   "source": []
  }
 ],
 "metadata": {
  "kernelspec": {
   "display_name": "Python 3 (ipykernel)",
   "language": "python",
   "name": "python3"
  },
  "language_info": {
   "codemirror_mode": {
    "name": "ipython",
    "version": 3
   },
   "file_extension": ".py",
   "mimetype": "text/x-python",
   "name": "python",
   "nbconvert_exporter": "python",
   "pygments_lexer": "ipython3",
   "version": "3.11.4"
  }
 },
 "nbformat": 4,
 "nbformat_minor": 5
}
