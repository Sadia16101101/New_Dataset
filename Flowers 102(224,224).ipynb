{
 "cells": [
  {
   "cell_type": "code",
   "execution_count": 1,
   "id": "afb495e6",
   "metadata": {},
   "outputs": [],
   "source": [
    "import tensorflow as tf\n",
    "import tensorflow_datasets as tfds"
   ]
  },
  {
   "cell_type": "code",
   "execution_count": 2,
   "id": "00d7f1bb",
   "metadata": {},
   "outputs": [],
   "source": [
    "import tensorflow as tf\n",
    "from tensorflow.keras.applications import ResNet50\n",
    "from tensorflow.keras.models import Sequential\n",
    "from tensorflow.keras.layers import Dense, GlobalAveragePooling2D\n",
    "from tensorflow.keras.optimizers import Adam\n",
    "from tensorflow.keras.preprocessing.image import ImageDataGenerator\n",
    "import os\n",
    "from PIL import Image\n",
    "import numpy as np\n",
    "from sklearn.preprocessing import LabelEncoder\n",
    "from tensorflow.keras.utils import to_categorical"
   ]
  },
  {
   "cell_type": "code",
   "execution_count": 3,
   "id": "6efb0411",
   "metadata": {},
   "outputs": [
    {
     "name": "stdout",
     "output_type": "stream",
     "text": [
      "Images shape: (64, 224, 224, 3)\n",
      "Labels shape: (64, 102)\n",
      "Images shape: (64, 224, 224, 3)\n",
      "Labels shape: (64, 102)\n"
     ]
    }
   ],
   "source": [
    "# Load the Flowers-102 dataset\n",
    "(ds_train, ds_test), ds_info = tfds.load('tf_flowers', split=['train[:80%]', 'train[80%:]'], as_supervised=True, with_info=True)\n",
    "\n",
    "# Define a function to resize images\n",
    "def resize_image(image, label):\n",
    "    image = tf.image.resize(image, (224, 224))\n",
    "    return image, label\n",
    "\n",
    "# Apply resizing to the dataset\n",
    "ds_train = ds_train.map(resize_image)\n",
    "ds_test = ds_test.map(resize_image)\n",
    "\n",
    "# Normalize pixel values to be in the range [0, 1]\n",
    "ds_train = ds_train.map(lambda x, y: (tf.cast(x, tf.float32) / 255.0, y))\n",
    "ds_test = ds_test.map(lambda x, y: (tf.cast(x, tf.float32) / 255.0, y))\n",
    "\n",
    "# Shuffle and batch the datasets\n",
    "ds_train = ds_train.shuffle(10000).batch(64)\n",
    "ds_test = ds_test.batch(64)\n",
    "\n",
    "# Convert labels to categorical format\n",
    "def categorical_labels(images, labels):\n",
    "    return images, tf.one_hot(labels, depth=102)  # 102 classes in Flowers-102 dataset\n",
    "\n",
    "ds_train = ds_train.map(categorical_labels)\n",
    "ds_test = ds_test.map(categorical_labels)\n",
    "\n",
    "# Verify the shapes\n",
    "for images, labels in ds_train.take(1):\n",
    "    print(\"Images shape:\", images.shape)\n",
    "    print(\"Labels shape:\", labels.shape)\n",
    "\n",
    "for images, labels in ds_test.take(1):\n",
    "    print(\"Images shape:\", images.shape)\n",
    "    print(\"Labels shape:\", labels.shape)\n"
   ]
  },
  {
   "cell_type": "code",
   "execution_count": 4,
   "id": "91a129e4",
   "metadata": {},
   "outputs": [],
   "source": [
    "# Create the ResNet model without the top (fully connected) layers\n",
    "base_model = ResNet50(weights='imagenet', include_top=False, input_shape=(224, 224, 3))\n",
    "    \n",
    "# Add the top layers for classification\n",
    "model = Sequential()\n",
    "model.add(base_model)\n",
    "model.add(GlobalAveragePooling2D())\n",
    "model.add(Dense(102, activation='softmax'))  # Change the number of units and activation\n",
    "model.compile(optimizer=Adam(learning_rate=0.001), loss='categorical_crossentropy', metrics=['accuracy'])\n"
   ]
  },
  {
   "cell_type": "code",
   "execution_count": 5,
   "id": "7e420bc3",
   "metadata": {},
   "outputs": [
    {
     "name": "stdout",
     "output_type": "stream",
     "text": [
      "Epoch 1/50\n",
      "46/46 [==============================] - 612s 13s/step - loss: 0.9462 - accuracy: 0.7428\n",
      "Epoch 2/50\n",
      "46/46 [==============================] - 601s 13s/step - loss: 0.3846 - accuracy: 0.8627\n",
      "Epoch 3/50\n",
      "46/46 [==============================] - 597s 13s/step - loss: 0.2103 - accuracy: 0.9292\n",
      "Epoch 4/50\n",
      "46/46 [==============================] - 599s 13s/step - loss: 0.1497 - accuracy: 0.9452\n",
      "Epoch 5/50\n",
      "46/46 [==============================] - 598s 13s/step - loss: 0.0931 - accuracy: 0.9666\n",
      "Epoch 6/50\n",
      "46/46 [==============================] - 600s 13s/step - loss: 0.0870 - accuracy: 0.9728\n",
      "Epoch 7/50\n",
      "46/46 [==============================] - 600s 13s/step - loss: 0.0746 - accuracy: 0.9748\n",
      "Epoch 8/50\n",
      "46/46 [==============================] - 602s 13s/step - loss: 0.0761 - accuracy: 0.9755\n",
      "Epoch 9/50\n",
      "46/46 [==============================] - 602s 13s/step - loss: 0.0818 - accuracy: 0.9724\n",
      "Epoch 10/50\n",
      "46/46 [==============================] - 606s 13s/step - loss: 0.0689 - accuracy: 0.9802\n",
      "Epoch 11/50\n",
      "46/46 [==============================] - 605s 13s/step - loss: 0.0715 - accuracy: 0.9796\n",
      "Epoch 12/50\n",
      "46/46 [==============================] - 605s 13s/step - loss: 0.0935 - accuracy: 0.9687\n",
      "Epoch 13/50\n",
      "46/46 [==============================] - 605s 13s/step - loss: 0.0323 - accuracy: 0.9888\n",
      "Epoch 14/50\n",
      "46/46 [==============================] - 608s 13s/step - loss: 0.0296 - accuracy: 0.9905\n",
      "Epoch 15/50\n",
      "46/46 [==============================] - 610s 13s/step - loss: 0.0195 - accuracy: 0.9946\n",
      "Epoch 16/50\n",
      "46/46 [==============================] - 609s 13s/step - loss: 0.0411 - accuracy: 0.9874\n",
      "Epoch 17/50\n",
      "46/46 [==============================] - 613s 13s/step - loss: 0.0312 - accuracy: 0.9918\n",
      "Epoch 18/50\n",
      "46/46 [==============================] - 614s 13s/step - loss: 0.0285 - accuracy: 0.9898\n",
      "Epoch 19/50\n",
      "46/46 [==============================] - 616s 13s/step - loss: 0.0375 - accuracy: 0.9860\n",
      "Epoch 20/50\n",
      "46/46 [==============================] - 616s 13s/step - loss: 0.0370 - accuracy: 0.9891\n",
      "Epoch 21/50\n",
      "46/46 [==============================] - 614s 13s/step - loss: 0.0447 - accuracy: 0.9867\n",
      "Epoch 22/50\n",
      "46/46 [==============================] - 619s 13s/step - loss: 0.0508 - accuracy: 0.9854\n",
      "Epoch 23/50\n",
      "46/46 [==============================] - 630s 14s/step - loss: 0.0307 - accuracy: 0.9898\n",
      "Epoch 24/50\n",
      "46/46 [==============================] - 641s 14s/step - loss: 0.0084 - accuracy: 0.9990\n",
      "Epoch 25/50\n",
      "46/46 [==============================] - 642s 14s/step - loss: 0.0681 - accuracy: 0.9802\n",
      "Epoch 26/50\n",
      "46/46 [==============================] - 664s 14s/step - loss: 0.1534 - accuracy: 0.9540\n",
      "Epoch 27/50\n",
      "46/46 [==============================] - 670s 15s/step - loss: 0.1212 - accuracy: 0.9595\n",
      "Epoch 28/50\n",
      "46/46 [==============================] - 682s 15s/step - loss: 0.0664 - accuracy: 0.9796\n",
      "Epoch 29/50\n",
      "46/46 [==============================] - 642s 14s/step - loss: 0.0365 - accuracy: 0.9881\n",
      "Epoch 30/50\n",
      "46/46 [==============================] - 636s 14s/step - loss: 0.0103 - accuracy: 0.9973\n",
      "Epoch 31/50\n",
      "46/46 [==============================] - 658s 14s/step - loss: 0.0060 - accuracy: 0.9986\n",
      "Epoch 32/50\n",
      "46/46 [==============================] - 648s 14s/step - loss: 0.0033 - accuracy: 0.9990\n",
      "Epoch 33/50\n",
      "46/46 [==============================] - 658s 14s/step - loss: 0.0020 - accuracy: 0.9997\n",
      "Epoch 34/50\n",
      "46/46 [==============================] - 671s 14s/step - loss: 0.0016 - accuracy: 0.9993\n",
      "Epoch 35/50\n",
      "46/46 [==============================] - 675s 15s/step - loss: 8.7949e-04 - accuracy: 0.9997\n",
      "Epoch 36/50\n",
      "46/46 [==============================] - 664s 14s/step - loss: 9.7722e-04 - accuracy: 0.9997\n",
      "Epoch 37/50\n",
      "46/46 [==============================] - 656s 14s/step - loss: 7.0278e-04 - accuracy: 0.9997\n",
      "Epoch 38/50\n",
      "46/46 [==============================] - 691s 15s/step - loss: 8.2983e-04 - accuracy: 0.9997\n",
      "Epoch 39/50\n",
      "46/46 [==============================] - 675s 15s/step - loss: 6.4445e-04 - accuracy: 0.9997\n",
      "Epoch 40/50\n",
      "46/46 [==============================] - 682s 15s/step - loss: 8.1559e-04 - accuracy: 0.9997\n",
      "Epoch 41/50\n",
      "46/46 [==============================] - 666s 14s/step - loss: 6.3043e-04 - accuracy: 0.9993\n",
      "Epoch 42/50\n",
      "46/46 [==============================] - 681s 15s/step - loss: 6.8574e-04 - accuracy: 0.9993\n",
      "Epoch 43/50\n",
      "46/46 [==============================] - 699s 15s/step - loss: 7.2663e-04 - accuracy: 0.9997\n",
      "Epoch 44/50\n",
      "46/46 [==============================] - 690s 15s/step - loss: 7.2430e-04 - accuracy: 0.9993\n",
      "Epoch 45/50\n",
      "46/46 [==============================] - 715s 15s/step - loss: 6.9275e-04 - accuracy: 0.9993\n",
      "Epoch 46/50\n",
      "46/46 [==============================] - 720s 16s/step - loss: 6.0783e-04 - accuracy: 0.9993\n",
      "Epoch 47/50\n",
      "46/46 [==============================] - 712s 15s/step - loss: 7.4601e-04 - accuracy: 0.9997\n",
      "Epoch 48/50\n",
      "46/46 [==============================] - 716s 15s/step - loss: 5.8073e-04 - accuracy: 0.9993\n",
      "Epoch 49/50\n",
      "46/46 [==============================] - 720s 16s/step - loss: 7.4172e-04 - accuracy: 0.9993\n",
      "Epoch 50/50\n",
      "46/46 [==============================] - 731s 16s/step - loss: 7.0662e-04 - accuracy: 0.9997\n"
     ]
    },
    {
     "data": {
      "text/plain": [
       "<keras.callbacks.History at 0x18dff12e4c0>"
      ]
     },
     "execution_count": 5,
     "metadata": {},
     "output_type": "execute_result"
    }
   ],
   "source": [
    "model.fit(ds_train, batch_size=64, epochs=50)"
   ]
  },
  {
   "cell_type": "code",
   "execution_count": 6,
   "id": "d7b29618",
   "metadata": {},
   "outputs": [
    {
     "name": "stdout",
     "output_type": "stream",
     "text": [
      "Test Accuracy: 0.9168937329700273\n",
      "Accuracy: 0.9168937329700273\n",
      "F1 Score: 0.9172136830949046\n"
     ]
    }
   ],
   "source": [
    "from sklearn.metrics import accuracy_score, f1_score, confusion_matrix\n",
    "\n",
    "# Make predictions on the test dataset\n",
    "predictions = model.predict(ds_test)\n",
    "\n",
    "# Convert one-hot encoded predictions back to class labels\n",
    "predicted_labels = np.argmax(predictions, axis=1)\n",
    "\n",
    "# Manually generate ground truth labels for evaluation\n",
    "true_labels = []\n",
    "for _, label in ds_test:\n",
    "    true_labels.extend(label.numpy())\n",
    "\n",
    "true_labels = np.argmax(true_labels, axis=1)\n",
    "\n",
    "# Calculate accuracy\n",
    "accuracy = accuracy_score(true_labels, predicted_labels)\n",
    "\n",
    "# Calculate F1 score\n",
    "f1 = f1_score(true_labels, predicted_labels, average='weighted')\n",
    "\n",
    "# Calculate confusion matrix\n",
    "conf_matrix = confusion_matrix(true_labels, predicted_labels)\n",
    "\n",
    "# Assuming you have test_loss and test_accuracy available\n",
    "# If not, you'll need to calculate them based on your model and test dataset\n",
    "print(f\"Test Accuracy: {accuracy}\")\n",
    "print(f\"Accuracy: {accuracy}\")\n",
    "print(f\"F1 Score: {f1}\")\n"
   ]
  },
  {
   "cell_type": "code",
   "execution_count": null,
   "id": "2925df83",
   "metadata": {},
   "outputs": [],
   "source": []
  },
  {
   "cell_type": "code",
   "execution_count": null,
   "id": "682f9447",
   "metadata": {},
   "outputs": [],
   "source": []
  },
  {
   "cell_type": "code",
   "execution_count": null,
   "id": "74d19d42",
   "metadata": {},
   "outputs": [],
   "source": []
  },
  {
   "cell_type": "code",
   "execution_count": null,
   "id": "606146b1",
   "metadata": {},
   "outputs": [],
   "source": []
  },
  {
   "cell_type": "code",
   "execution_count": null,
   "id": "095ba2ab",
   "metadata": {},
   "outputs": [],
   "source": []
  },
  {
   "cell_type": "code",
   "execution_count": null,
   "id": "a9efd4eb",
   "metadata": {},
   "outputs": [],
   "source": []
  },
  {
   "cell_type": "code",
   "execution_count": null,
   "id": "287aff3f",
   "metadata": {},
   "outputs": [],
   "source": []
  },
  {
   "cell_type": "code",
   "execution_count": null,
   "id": "7e68d10e",
   "metadata": {},
   "outputs": [],
   "source": []
  },
  {
   "cell_type": "code",
   "execution_count": null,
   "id": "de2851ea",
   "metadata": {},
   "outputs": [],
   "source": []
  },
  {
   "cell_type": "code",
   "execution_count": null,
   "id": "43165ad8",
   "metadata": {},
   "outputs": [],
   "source": []
  },
  {
   "cell_type": "code",
   "execution_count": null,
   "id": "ce09e57c",
   "metadata": {},
   "outputs": [],
   "source": []
  },
  {
   "cell_type": "code",
   "execution_count": null,
   "id": "47e6ead7",
   "metadata": {},
   "outputs": [],
   "source": []
  }
 ],
 "metadata": {
  "kernelspec": {
   "display_name": "Python 3 (ipykernel)",
   "language": "python",
   "name": "python3"
  },
  "language_info": {
   "codemirror_mode": {
    "name": "ipython",
    "version": 3
   },
   "file_extension": ".py",
   "mimetype": "text/x-python",
   "name": "python",
   "nbconvert_exporter": "python",
   "pygments_lexer": "ipython3",
   "version": "3.8.8"
  }
 },
 "nbformat": 4,
 "nbformat_minor": 5
}
