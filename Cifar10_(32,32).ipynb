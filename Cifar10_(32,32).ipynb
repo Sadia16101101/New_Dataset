{
 "cells": [
  {
   "cell_type": "code",
   "execution_count": 1,
   "id": "2666249e",
   "metadata": {},
   "outputs": [],
   "source": [
    "import tensorflow as tf\n",
    "from tensorflow import keras\n",
    "from tensorflow.keras.datasets import cifar10\n",
    "from tensorflow.keras.applications import MobileNet\n",
    "from tensorflow.keras.models import Sequential\n",
    "from tensorflow.keras.layers import Dense, GlobalAveragePooling2D\n",
    "from tensorflow.keras.optimizers import Adam\n",
    "from tensorflow.keras.preprocessing.image import ImageDataGenerator\n",
    "# Load the CIFAR-100 dataset\n",
    "(x_train, y_train), (x_test, y_test) = cifar10.load_data()\n",
    "\n",
    "# Normalize the pixel values between 0 and 1\n",
    "x_train = x_train.astype('float32') / 255.0\n",
    "x_test = x_test.astype('float32') / 255.0\n",
    "\n",
    "# Convert the labels to one-hot encoding\n",
    "y_train = keras.utils.to_categorical(y_train, 10)\n",
    "y_test = keras.utils.to_categorical(y_test, 10)\n"
   ]
  },
  {
   "cell_type": "code",
   "execution_count": 2,
   "id": "89cd60d5",
   "metadata": {},
   "outputs": [
    {
     "name": "stderr",
     "output_type": "stream",
     "text": [
      "WARNING:absl:At this time, the v2.11+ optimizer `tf.keras.optimizers.Adam` runs slowly on M1/M2 Macs, please use the legacy Keras optimizer instead, located at `tf.keras.optimizers.legacy.Adam`.\n",
      "WARNING:absl:`lr` is deprecated in Keras optimizer, please use `learning_rate` or use the legacy optimizer, e.g.,tf.keras.optimizers.legacy.Adam.\n",
      "WARNING:absl:There is a known slowdown when using v2.11+ Keras optimizers on M1/M2 Macs. Falling back to the legacy Keras optimizer, i.e., `tf.keras.optimizers.legacy.Adam`.\n"
     ]
    }
   ],
   "source": [
    "from tensorflow.keras.applications import ResNet50\n",
    "from tensorflow.keras.models import Sequential\n",
    "from tensorflow.keras.layers import Dense, GlobalAveragePooling2D\n",
    "\n",
    "# Create the ResNet model without the top (fully connected) layers\n",
    "base_model = ResNet50(weights='imagenet', include_top=False, input_shape=(32, 32, 3))\n",
    "    \n",
    "# Add the top layers for classification\n",
    "model = Sequential()\n",
    "model.add(base_model)\n",
    "model.add(GlobalAveragePooling2D())\n",
    "model.add(Dense(10, activation='softmax'))\n",
    "\n",
    "# Compile the model\n",
    "model.compile(optimizer=Adam(lr=0.001), loss='categorical_crossentropy', metrics=['accuracy'])\n"
   ]
  },
  {
   "cell_type": "code",
   "execution_count": 3,
   "id": "079e6a1f",
   "metadata": {},
   "outputs": [
    {
     "name": "stdout",
     "output_type": "stream",
     "text": [
      "Epoch 1/50\n",
      "625/625 [==============================] - 326s 520ms/step - loss: 1.6127 - accuracy: 0.5093 - val_loss: 4.4056 - val_accuracy: 0.1517\n",
      "Epoch 2/50\n",
      "625/625 [==============================] - 362s 579ms/step - loss: 1.2669 - accuracy: 0.5953 - val_loss: 4.2710 - val_accuracy: 0.1881\n",
      "Epoch 3/50\n",
      "625/625 [==============================] - 553s 885ms/step - loss: 1.6733 - accuracy: 0.4785 - val_loss: 2.1399 - val_accuracy: 0.3790\n",
      "Epoch 4/50\n",
      "625/625 [==============================] - 3151s 5s/step - loss: 1.5023 - accuracy: 0.5275 - val_loss: 1.4105 - val_accuracy: 0.5326\n",
      "Epoch 5/50\n",
      "625/625 [==============================] - 556s 890ms/step - loss: 1.1596 - accuracy: 0.6170 - val_loss: 1.5839 - val_accuracy: 0.4826\n",
      "Epoch 6/50\n",
      "625/625 [==============================] - 347s 556ms/step - loss: 1.2611 - accuracy: 0.5993 - val_loss: 1.4201 - val_accuracy: 0.5172\n",
      "Epoch 7/50\n",
      "625/625 [==============================] - 376s 601ms/step - loss: 1.1666 - accuracy: 0.6207 - val_loss: 1.4046 - val_accuracy: 0.5241\n",
      "Epoch 8/50\n",
      "625/625 [==============================] - 376s 602ms/step - loss: 1.1086 - accuracy: 0.6436 - val_loss: 1.5792 - val_accuracy: 0.5829\n",
      "Epoch 9/50\n",
      "625/625 [==============================] - 390s 623ms/step - loss: 0.8694 - accuracy: 0.7037 - val_loss: 1.0981 - val_accuracy: 0.6413\n",
      "Epoch 10/50\n",
      "625/625 [==============================] - 391s 625ms/step - loss: 0.7990 - accuracy: 0.7278 - val_loss: 0.8963 - val_accuracy: 0.7000\n",
      "Epoch 11/50\n",
      "625/625 [==============================] - 1104s 2s/step - loss: 0.8491 - accuracy: 0.7146 - val_loss: 2.0097 - val_accuracy: 0.6075\n",
      "Epoch 12/50\n",
      "625/625 [==============================] - 346s 553ms/step - loss: 0.8192 - accuracy: 0.7229 - val_loss: 0.8373 - val_accuracy: 0.7126\n",
      "Epoch 13/50\n",
      "625/625 [==============================] - 367s 587ms/step - loss: 0.6900 - accuracy: 0.7677 - val_loss: 15.0781 - val_accuracy: 0.3937\n",
      "Epoch 14/50\n",
      "625/625 [==============================] - 374s 599ms/step - loss: 0.7230 - accuracy: 0.7532 - val_loss: 0.7870 - val_accuracy: 0.7324\n",
      "Epoch 15/50\n",
      "625/625 [==============================] - 388s 621ms/step - loss: 0.5562 - accuracy: 0.8081 - val_loss: 0.8190 - val_accuracy: 0.7382\n",
      "Epoch 16/50\n",
      "625/625 [==============================] - 382s 612ms/step - loss: 0.4909 - accuracy: 0.8312 - val_loss: 0.8865 - val_accuracy: 0.7149\n",
      "Epoch 17/50\n",
      "625/625 [==============================] - 397s 636ms/step - loss: 0.3749 - accuracy: 0.8706 - val_loss: 1.0395 - val_accuracy: 0.6892\n",
      "Epoch 18/50\n",
      "625/625 [==============================] - 404s 646ms/step - loss: 0.3119 - accuracy: 0.8924 - val_loss: 0.9923 - val_accuracy: 0.7158\n",
      "Epoch 19/50\n",
      "625/625 [==============================] - 392s 627ms/step - loss: 0.2768 - accuracy: 0.9040 - val_loss: 1.1261 - val_accuracy: 0.6948\n",
      "Epoch 20/50\n",
      "625/625 [==============================] - 397s 636ms/step - loss: 0.2227 - accuracy: 0.9227 - val_loss: 0.9567 - val_accuracy: 0.7452\n",
      "Epoch 21/50\n",
      "625/625 [==============================] - 391s 626ms/step - loss: 0.1875 - accuracy: 0.9349 - val_loss: 0.9973 - val_accuracy: 0.7414\n",
      "Epoch 22/50\n",
      "625/625 [==============================] - 415s 665ms/step - loss: 0.1705 - accuracy: 0.9433 - val_loss: 1.1587 - val_accuracy: 0.7317\n",
      "Epoch 23/50\n",
      "625/625 [==============================] - 392s 627ms/step - loss: 0.1477 - accuracy: 0.9484 - val_loss: 1.2000 - val_accuracy: 0.7139\n",
      "Epoch 24/50\n",
      "625/625 [==============================] - 403s 644ms/step - loss: 0.1397 - accuracy: 0.9531 - val_loss: 1.0472 - val_accuracy: 0.7501\n",
      "Epoch 25/50\n",
      "625/625 [==============================] - 408s 652ms/step - loss: 0.1091 - accuracy: 0.9617 - val_loss: 1.2408 - val_accuracy: 0.7156\n",
      "Epoch 26/50\n",
      "625/625 [==============================] - 416s 666ms/step - loss: 0.1229 - accuracy: 0.9584 - val_loss: 2.3451 - val_accuracy: 0.6474\n",
      "Epoch 27/50\n",
      "625/625 [==============================] - 412s 658ms/step - loss: 0.1357 - accuracy: 0.9556 - val_loss: 1.1458 - val_accuracy: 0.7485\n",
      "Epoch 28/50\n",
      "625/625 [==============================] - 411s 658ms/step - loss: 0.0796 - accuracy: 0.9730 - val_loss: 1.4549 - val_accuracy: 0.7267\n",
      "Epoch 29/50\n",
      "625/625 [==============================] - 426s 682ms/step - loss: 0.0809 - accuracy: 0.9724 - val_loss: 1.3925 - val_accuracy: 0.7196\n",
      "Epoch 30/50\n",
      "625/625 [==============================] - 405s 647ms/step - loss: 0.0723 - accuracy: 0.9754 - val_loss: 1.5266 - val_accuracy: 0.7123\n",
      "Epoch 31/50\n",
      "625/625 [==============================] - 397s 634ms/step - loss: 0.0785 - accuracy: 0.9733 - val_loss: 1.1743 - val_accuracy: 0.7486\n",
      "Epoch 32/50\n",
      "625/625 [==============================] - 423s 677ms/step - loss: 0.0675 - accuracy: 0.9764 - val_loss: 1.4469 - val_accuracy: 0.7234\n",
      "Epoch 33/50\n",
      "625/625 [==============================] - 414s 662ms/step - loss: 0.0598 - accuracy: 0.9798 - val_loss: 1.4054 - val_accuracy: 0.7282\n",
      "Epoch 34/50\n",
      "625/625 [==============================] - 397s 635ms/step - loss: 0.0609 - accuracy: 0.9794 - val_loss: 1.7259 - val_accuracy: 0.6841\n",
      "Epoch 35/50\n",
      "625/625 [==============================] - 389s 622ms/step - loss: 0.0758 - accuracy: 0.9772 - val_loss: 4.0301 - val_accuracy: 0.4401\n",
      "Epoch 36/50\n",
      "625/625 [==============================] - 393s 628ms/step - loss: 0.1505 - accuracy: 0.9532 - val_loss: 1.3317 - val_accuracy: 0.7350\n",
      "Epoch 37/50\n",
      "625/625 [==============================] - 391s 626ms/step - loss: 0.0409 - accuracy: 0.9864 - val_loss: 1.3019 - val_accuracy: 0.7526\n",
      "Epoch 38/50\n",
      "625/625 [==============================] - 392s 628ms/step - loss: 0.0461 - accuracy: 0.9842 - val_loss: 1.2313 - val_accuracy: 0.7623\n",
      "Epoch 39/50\n",
      "625/625 [==============================] - 1901s 3s/step - loss: 0.0522 - accuracy: 0.9827 - val_loss: 1.3681 - val_accuracy: 0.7413\n",
      "Epoch 40/50\n",
      "625/625 [==============================] - 340s 545ms/step - loss: 0.0479 - accuracy: 0.9842 - val_loss: 1.3663 - val_accuracy: 0.7401\n",
      "Epoch 41/50\n",
      "625/625 [==============================] - 3162s 5s/step - loss: 0.0550 - accuracy: 0.9819 - val_loss: 1.3112 - val_accuracy: 0.7520\n",
      "Epoch 42/50\n",
      "625/625 [==============================] - 1250s 2s/step - loss: 0.0477 - accuracy: 0.9847 - val_loss: 1.6748 - val_accuracy: 0.7030\n",
      "Epoch 43/50\n",
      "625/625 [==============================] - 327s 523ms/step - loss: 0.0469 - accuracy: 0.9839 - val_loss: 1.3879 - val_accuracy: 0.7598\n",
      "Epoch 44/50\n",
      "625/625 [==============================] - 3164s 5s/step - loss: 0.0444 - accuracy: 0.9850 - val_loss: 1.3192 - val_accuracy: 0.7586\n",
      "Epoch 45/50\n",
      "625/625 [==============================] - 5902s 9s/step - loss: 0.0428 - accuracy: 0.9859 - val_loss: 1.7343 - val_accuracy: 0.7017\n",
      "Epoch 46/50\n",
      "625/625 [==============================] - 6365s 10s/step - loss: 0.0450 - accuracy: 0.9849 - val_loss: 1.3020 - val_accuracy: 0.7613\n",
      "Epoch 47/50\n",
      "625/625 [==============================] - 6135s 10s/step - loss: 0.0407 - accuracy: 0.9868 - val_loss: 1.5215 - val_accuracy: 0.7395\n",
      "Epoch 48/50\n",
      "625/625 [==============================] - 3786s 6s/step - loss: 0.0403 - accuracy: 0.9871 - val_loss: 1.3805 - val_accuracy: 0.7361\n",
      "Epoch 49/50\n",
      "625/625 [==============================] - 325s 521ms/step - loss: 0.0423 - accuracy: 0.9854 - val_loss: 1.6345 - val_accuracy: 0.7039\n",
      "Epoch 50/50\n",
      "625/625 [==============================] - 336s 538ms/step - loss: 0.0437 - accuracy: 0.9858 - val_loss: 1.3501 - val_accuracy: 0.7504\n"
     ]
    },
    {
     "data": {
      "text/plain": [
       "<keras.src.callbacks.History at 0x169e57150>"
      ]
     },
     "execution_count": 3,
     "metadata": {},
     "output_type": "execute_result"
    }
   ],
   "source": [
    "# Train the model\n",
    "model.fit(x_train, y_train, batch_size=64, epochs=50, validation_split = .2)"
   ]
  },
  {
   "cell_type": "code",
   "execution_count": 4,
   "id": "960bd789",
   "metadata": {},
   "outputs": [
    {
     "name": "stdout",
     "output_type": "stream",
     "text": [
      "313/313 [==============================] - 12s 36ms/step\n",
      "Accuracy: 0.7521\n",
      "F1 Score (Micro): 0.7520999999999999\n"
     ]
    }
   ],
   "source": [
    "import numpy as np\n",
    "from sklearn.metrics import accuracy_score, f1_score\n",
    "\n",
    "# Assuming you have trained a model and obtained predicted probabilities on x_test\n",
    "y_pred_prob = model.predict(x_test)\n",
    "\n",
    "# Convert predicted probabilities to predicted labels\n",
    "y_pred = np.argmax(y_pred_prob, axis=1)\n",
    "\n",
    "# Convert y_test to predicted labels format\n",
    "y_test_labels = np.argmax(y_test, axis=1)\n",
    "\n",
    "# Calculate accuracy\n",
    "accuracy = accuracy_score(y_test_labels, y_pred)\n",
    "print(\"Accuracy:\", accuracy)\n",
    "\n",
    "# Calculate F1 score (micro-average)\n",
    "f1_micro = f1_score(y_test_labels, y_pred, average='micro')\n",
    "print(\"F1 Score (Micro):\", f1_micro)"
   ]
  },
  {
   "cell_type": "code",
   "execution_count": null,
   "id": "37bb84f1",
   "metadata": {},
   "outputs": [],
   "source": []
  },
  {
   "cell_type": "code",
   "execution_count": null,
   "id": "dd0d6e0e",
   "metadata": {},
   "outputs": [],
   "source": []
  },
  {
   "cell_type": "code",
   "execution_count": null,
   "id": "59bf6c5f",
   "metadata": {},
   "outputs": [],
   "source": []
  },
  {
   "cell_type": "code",
   "execution_count": null,
   "id": "dd0e08c8",
   "metadata": {},
   "outputs": [],
   "source": []
  },
  {
   "cell_type": "code",
   "execution_count": null,
   "id": "a13d1eb1",
   "metadata": {},
   "outputs": [],
   "source": []
  },
  {
   "cell_type": "code",
   "execution_count": null,
   "id": "bcaeb1e4",
   "metadata": {},
   "outputs": [],
   "source": []
  },
  {
   "cell_type": "code",
   "execution_count": null,
   "id": "5fd75a3b",
   "metadata": {},
   "outputs": [],
   "source": []
  },
  {
   "cell_type": "code",
   "execution_count": null,
   "id": "d0ab04b4",
   "metadata": {},
   "outputs": [],
   "source": []
  },
  {
   "cell_type": "code",
   "execution_count": null,
   "id": "e4aaefb3",
   "metadata": {},
   "outputs": [],
   "source": []
  },
  {
   "cell_type": "code",
   "execution_count": null,
   "id": "4c9fe711",
   "metadata": {},
   "outputs": [],
   "source": []
  },
  {
   "cell_type": "code",
   "execution_count": null,
   "id": "0e2d3286",
   "metadata": {},
   "outputs": [],
   "source": []
  },
  {
   "cell_type": "code",
   "execution_count": null,
   "id": "d5f1b34d",
   "metadata": {},
   "outputs": [],
   "source": []
  }
 ],
 "metadata": {
  "kernelspec": {
   "display_name": "Python 3 (ipykernel)",
   "language": "python",
   "name": "python3"
  },
  "language_info": {
   "codemirror_mode": {
    "name": "ipython",
    "version": 3
   },
   "file_extension": ".py",
   "mimetype": "text/x-python",
   "name": "python",
   "nbconvert_exporter": "python",
   "pygments_lexer": "ipython3",
   "version": "3.11.4"
  }
 },
 "nbformat": 4,
 "nbformat_minor": 5
}
