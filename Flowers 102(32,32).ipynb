{
 "cells": [
  {
   "cell_type": "code",
   "execution_count": 1,
   "id": "afb495e6",
   "metadata": {},
   "outputs": [],
   "source": [
    "import tensorflow as tf\n",
    "import tensorflow_datasets as tfds"
   ]
  },
  {
   "cell_type": "code",
   "execution_count": 2,
   "id": "b0deca69",
   "metadata": {},
   "outputs": [],
   "source": [
    "import tensorflow as tf\n",
    "from tensorflow.keras.applications import ResNet50\n",
    "from tensorflow.keras.models import Sequential\n",
    "from tensorflow.keras.layers import Dense, GlobalAveragePooling2D\n",
    "from tensorflow.keras.optimizers import Adam\n",
    "from tensorflow.keras.preprocessing.image import ImageDataGenerator\n",
    "import os\n",
    "from PIL import Image\n",
    "import numpy as np\n",
    "from sklearn.preprocessing import LabelEncoder\n",
    "from tensorflow.keras.utils import to_categorical"
   ]
  },
  {
   "cell_type": "code",
   "execution_count": 3,
   "id": "6efb0411",
   "metadata": {},
   "outputs": [
    {
     "name": "stdout",
     "output_type": "stream",
     "text": [
      "Images shape: (64, 32, 32, 3)\n",
      "Labels shape: (64, 102)\n",
      "Images shape: (64, 32, 32, 3)\n",
      "Labels shape: (64, 102)\n"
     ]
    }
   ],
   "source": [
    "# Load the Flowers-102 dataset\n",
    "(ds_train, ds_test), ds_info = tfds.load('tf_flowers', split=['train[:80%]', 'train[80%:]'], as_supervised=True, with_info=True)\n",
    "\n",
    "# Define a function to resize images\n",
    "def resize_image(image, label):\n",
    "    image = tf.image.resize(image, (32, 32))\n",
    "    return image, label\n",
    "\n",
    "# Apply resizing to the dataset\n",
    "ds_train = ds_train.map(resize_image)\n",
    "ds_test = ds_test.map(resize_image)\n",
    "\n",
    "# Normalize pixel values to be in the range [0, 1]\n",
    "ds_train = ds_train.map(lambda x, y: (tf.cast(x, tf.float32) / 255.0, y))\n",
    "ds_test = ds_test.map(lambda x, y: (tf.cast(x, tf.float32) / 255.0, y))\n",
    "\n",
    "# Shuffle and batch the datasets\n",
    "ds_train = ds_train.shuffle(10000).batch(64)\n",
    "ds_test = ds_test.batch(64)\n",
    "\n",
    "# Convert labels to categorical format\n",
    "def categorical_labels(images, labels):\n",
    "    return images, tf.one_hot(labels, depth=102)  # 102 classes in Flowers-102 dataset\n",
    "\n",
    "ds_train = ds_train.map(categorical_labels)\n",
    "ds_test = ds_test.map(categorical_labels)\n",
    "\n",
    "# Verify the shapes\n",
    "for images, labels in ds_train.take(1):\n",
    "    print(\"Images shape:\", images.shape)\n",
    "    print(\"Labels shape:\", labels.shape)\n",
    "\n",
    "for images, labels in ds_test.take(1):\n",
    "    print(\"Images shape:\", images.shape)\n",
    "    print(\"Labels shape:\", labels.shape)\n"
   ]
  },
  {
   "cell_type": "code",
   "execution_count": 4,
   "id": "91a129e4",
   "metadata": {},
   "outputs": [],
   "source": [
    "# Create the ResNet model without the top (fully connected) layers\n",
    "base_model = ResNet50(weights='imagenet', include_top=False, input_shape=(32, 32, 3))\n",
    "    \n",
    "# Add the top layers for classification\n",
    "model = Sequential()\n",
    "model.add(base_model)\n",
    "model.add(GlobalAveragePooling2D())\n",
    "model.add(Dense(102, activation='softmax'))  # Change the number of units and activation\n",
    "model.compile(optimizer=Adam(learning_rate=0.001), loss='categorical_crossentropy', metrics=['accuracy'])\n"
   ]
  },
  {
   "cell_type": "code",
   "execution_count": 5,
   "id": "c129b619",
   "metadata": {},
   "outputs": [
    {
     "name": "stdout",
     "output_type": "stream",
     "text": [
      "Epoch 1/50\n",
      "46/46 [==============================] - 136s 3s/step - loss: 1.9471 - accuracy: 0.4891\n",
      "Epoch 2/50\n",
      "46/46 [==============================] - 131s 3s/step - loss: 1.1999 - accuracy: 0.6209\n",
      "Epoch 3/50\n",
      "46/46 [==============================] - 127s 3s/step - loss: 0.8699 - accuracy: 0.7078\n",
      "Epoch 4/50\n",
      "46/46 [==============================] - 123s 3s/step - loss: 0.5772 - accuracy: 0.8011\n",
      "Epoch 5/50\n",
      "46/46 [==============================] - 126s 3s/step - loss: 0.4024 - accuracy: 0.8648\n",
      "Epoch 6/50\n",
      "46/46 [==============================] - 124s 3s/step - loss: 0.2702 - accuracy: 0.9074\n",
      "Epoch 7/50\n",
      "46/46 [==============================] - 126s 3s/step - loss: 0.2116 - accuracy: 0.9268\n",
      "Epoch 8/50\n",
      "46/46 [==============================] - 130s 3s/step - loss: 0.2197 - accuracy: 0.9257\n",
      "Epoch 9/50\n",
      "46/46 [==============================] - 130s 3s/step - loss: 0.2147 - accuracy: 0.9360\n",
      "Epoch 10/50\n",
      "46/46 [==============================] - 131s 3s/step - loss: 0.2513 - accuracy: 0.9213\n",
      "Epoch 11/50\n",
      "46/46 [==============================] - 126s 3s/step - loss: 0.2523 - accuracy: 0.9264\n",
      "Epoch 12/50\n",
      "46/46 [==============================] - 125s 3s/step - loss: 0.6436 - accuracy: 0.8106\n",
      "Epoch 13/50\n",
      "46/46 [==============================] - 125s 3s/step - loss: 0.7212 - accuracy: 0.7827\n",
      "Epoch 14/50\n",
      "46/46 [==============================] - 136s 3s/step - loss: 0.4234 - accuracy: 0.8569\n",
      "Epoch 15/50\n",
      "46/46 [==============================] - 116s 3s/step - loss: 1.0234 - accuracy: 0.7841\n",
      "Epoch 16/50\n",
      "46/46 [==============================] - 120s 3s/step - loss: 0.8424 - accuracy: 0.7582\n",
      "Epoch 17/50\n",
      "46/46 [==============================] - 136s 3s/step - loss: 0.4834 - accuracy: 0.8392\n",
      "Epoch 18/50\n",
      "46/46 [==============================] - 130s 3s/step - loss: 0.3250 - accuracy: 0.9097\n",
      "Epoch 19/50\n",
      "46/46 [==============================] - 125s 3s/step - loss: 0.2855 - accuracy: 0.9247\n",
      "Epoch 20/50\n",
      "46/46 [==============================] - 124s 3s/step - loss: 0.2186 - accuracy: 0.9506\n",
      "Epoch 21/50\n",
      "46/46 [==============================] - 124s 3s/step - loss: 0.1510 - accuracy: 0.9666\n",
      "Epoch 22/50\n",
      "46/46 [==============================] - 125s 3s/step - loss: 0.4038 - accuracy: 0.8903\n",
      "Epoch 23/50\n",
      "46/46 [==============================] - 124s 3s/step - loss: 0.3764 - accuracy: 0.8985\n",
      "Epoch 24/50\n",
      "46/46 [==============================] - 124s 3s/step - loss: 0.2012 - accuracy: 0.9486\n",
      "Epoch 25/50\n",
      "46/46 [==============================] - 124s 3s/step - loss: 0.0819 - accuracy: 0.9758\n",
      "Epoch 26/50\n",
      "46/46 [==============================] - 124s 3s/step - loss: 0.0528 - accuracy: 0.9850\n",
      "Epoch 27/50\n",
      "46/46 [==============================] - 123s 3s/step - loss: 0.0482 - accuracy: 0.9837\n",
      "Epoch 28/50\n",
      "46/46 [==============================] - 124s 3s/step - loss: 0.0413 - accuracy: 0.9864\n",
      "Epoch 29/50\n",
      "46/46 [==============================] - 124s 3s/step - loss: 0.0681 - accuracy: 0.9782\n",
      "Epoch 30/50\n",
      "46/46 [==============================] - 149s 3s/step - loss: 0.0466 - accuracy: 0.9847\n",
      "Epoch 31/50\n",
      "46/46 [==============================] - 132s 3s/step - loss: 0.0880 - accuracy: 0.9734\n",
      "Epoch 32/50\n",
      "46/46 [==============================] - 125s 3s/step - loss: 0.0839 - accuracy: 0.9710\n",
      "Epoch 33/50\n",
      "46/46 [==============================] - 125s 3s/step - loss: 0.0417 - accuracy: 0.9864\n",
      "Epoch 34/50\n",
      "46/46 [==============================] - 125s 3s/step - loss: 0.0421 - accuracy: 0.9867\n",
      "Epoch 35/50\n",
      "46/46 [==============================] - 125s 3s/step - loss: 0.0267 - accuracy: 0.9908\n",
      "Epoch 36/50\n",
      "46/46 [==============================] - 124s 3s/step - loss: 0.0215 - accuracy: 0.9922\n",
      "Epoch 37/50\n",
      "46/46 [==============================] - 125s 3s/step - loss: 0.0291 - accuracy: 0.9901\n",
      "Epoch 38/50\n",
      "46/46 [==============================] - 124s 3s/step - loss: 0.0473 - accuracy: 0.9847\n",
      "Epoch 39/50\n",
      "46/46 [==============================] - 124s 3s/step - loss: 0.0208 - accuracy: 0.9932\n",
      "Epoch 40/50\n",
      "46/46 [==============================] - 125s 3s/step - loss: 0.0381 - accuracy: 0.9891\n",
      "Epoch 41/50\n",
      "46/46 [==============================] - 124s 3s/step - loss: 0.0232 - accuracy: 0.9915\n",
      "Epoch 42/50\n",
      "46/46 [==============================] - 124s 3s/step - loss: 0.0321 - accuracy: 0.9898\n",
      "Epoch 43/50\n",
      "46/46 [==============================] - 124s 3s/step - loss: 0.0367 - accuracy: 0.9877\n",
      "Epoch 44/50\n",
      "46/46 [==============================] - 125s 3s/step - loss: 0.0420 - accuracy: 0.9881\n",
      "Epoch 45/50\n",
      "46/46 [==============================] - 124s 3s/step - loss: 0.0395 - accuracy: 0.9894\n",
      "Epoch 46/50\n",
      "46/46 [==============================] - 124s 3s/step - loss: 0.0331 - accuracy: 0.9911\n",
      "Epoch 47/50\n",
      "46/46 [==============================] - 123s 3s/step - loss: 0.0502 - accuracy: 0.9837\n",
      "Epoch 48/50\n",
      "46/46 [==============================] - 124s 3s/step - loss: 0.0388 - accuracy: 0.9871\n",
      "Epoch 49/50\n",
      "46/46 [==============================] - 124s 3s/step - loss: 0.0604 - accuracy: 0.9809\n",
      "Epoch 50/50\n",
      "46/46 [==============================] - 125s 3s/step - loss: 0.0608 - accuracy: 0.9799\n"
     ]
    },
    {
     "data": {
      "text/plain": [
       "<keras.callbacks.History at 0x24122b8d550>"
      ]
     },
     "execution_count": 5,
     "metadata": {},
     "output_type": "execute_result"
    }
   ],
   "source": [
    "model.fit(ds_train, batch_size=64, epochs=50)"
   ]
  },
  {
   "cell_type": "code",
   "execution_count": 6,
   "id": "d7b29618",
   "metadata": {},
   "outputs": [
    {
     "name": "stdout",
     "output_type": "stream",
     "text": [
      "Test Accuracy: 0.6267029972752044\n",
      "Accuracy: 0.6267029972752044\n",
      "F1 Score: 0.6225172175711507\n"
     ]
    }
   ],
   "source": [
    "from sklearn.metrics import accuracy_score, f1_score, confusion_matrix\n",
    "\n",
    "# Make predictions on the test dataset\n",
    "predictions = model.predict(ds_test)\n",
    "\n",
    "# Convert one-hot encoded predictions back to class labels\n",
    "predicted_labels = np.argmax(predictions, axis=1)\n",
    "\n",
    "# Manually generate ground truth labels for evaluation\n",
    "true_labels = []\n",
    "for _, label in ds_test:\n",
    "    true_labels.extend(label.numpy())\n",
    "\n",
    "true_labels = np.argmax(true_labels, axis=1)\n",
    "\n",
    "# Calculate accuracy\n",
    "accuracy = accuracy_score(true_labels, predicted_labels)\n",
    "\n",
    "# Calculate F1 score\n",
    "f1 = f1_score(true_labels, predicted_labels, average='weighted')\n",
    "\n",
    "# Calculate confusion matrix\n",
    "conf_matrix = confusion_matrix(true_labels, predicted_labels)\n",
    "\n",
    "# Assuming you have test_loss and test_accuracy available\n",
    "# If not, you'll need to calculate them based on your model and test dataset\n",
    "print(f\"Test Accuracy: {accuracy}\")\n",
    "print(f\"Accuracy: {accuracy}\")\n",
    "print(f\"F1 Score: {f1}\")\n"
   ]
  },
  {
   "cell_type": "code",
   "execution_count": null,
   "id": "2925df83",
   "metadata": {},
   "outputs": [],
   "source": []
  },
  {
   "cell_type": "code",
   "execution_count": null,
   "id": "682f9447",
   "metadata": {},
   "outputs": [],
   "source": []
  },
  {
   "cell_type": "code",
   "execution_count": null,
   "id": "74d19d42",
   "metadata": {},
   "outputs": [],
   "source": []
  },
  {
   "cell_type": "code",
   "execution_count": null,
   "id": "606146b1",
   "metadata": {},
   "outputs": [],
   "source": []
  },
  {
   "cell_type": "code",
   "execution_count": null,
   "id": "095ba2ab",
   "metadata": {},
   "outputs": [],
   "source": []
  },
  {
   "cell_type": "code",
   "execution_count": null,
   "id": "a9efd4eb",
   "metadata": {},
   "outputs": [],
   "source": []
  },
  {
   "cell_type": "code",
   "execution_count": null,
   "id": "287aff3f",
   "metadata": {},
   "outputs": [],
   "source": []
  },
  {
   "cell_type": "code",
   "execution_count": null,
   "id": "7e68d10e",
   "metadata": {},
   "outputs": [],
   "source": []
  },
  {
   "cell_type": "code",
   "execution_count": null,
   "id": "de2851ea",
   "metadata": {},
   "outputs": [],
   "source": []
  },
  {
   "cell_type": "code",
   "execution_count": null,
   "id": "43165ad8",
   "metadata": {},
   "outputs": [],
   "source": []
  },
  {
   "cell_type": "code",
   "execution_count": null,
   "id": "ce09e57c",
   "metadata": {},
   "outputs": [],
   "source": []
  },
  {
   "cell_type": "code",
   "execution_count": null,
   "id": "47e6ead7",
   "metadata": {},
   "outputs": [],
   "source": []
  }
 ],
 "metadata": {
  "kernelspec": {
   "display_name": "Python 3 (ipykernel)",
   "language": "python",
   "name": "python3"
  },
  "language_info": {
   "codemirror_mode": {
    "name": "ipython",
    "version": 3
   },
   "file_extension": ".py",
   "mimetype": "text/x-python",
   "name": "python",
   "nbconvert_exporter": "python",
   "pygments_lexer": "ipython3",
   "version": "3.8.8"
  }
 },
 "nbformat": 4,
 "nbformat_minor": 5
}
