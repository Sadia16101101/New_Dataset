{
 "cells": [
  {
   "cell_type": "code",
   "execution_count": 1,
   "id": "f94cf41e",
   "metadata": {},
   "outputs": [
    {
     "name": "stdout",
     "output_type": "stream",
     "text": [
      "Requirement already satisfied: tensorflow_datasets in c:\\anaconda3\\lib\\site-packages (4.9.2)\n",
      "Requirement already satisfied: promise in c:\\anaconda3\\lib\\site-packages (from tensorflow_datasets) (2.3)\n",
      "Requirement already satisfied: psutil in c:\\users\\sadia_tisha1\\appdata\\roaming\\python\\python38\\site-packages (from tensorflow_datasets) (5.9.5)\n",
      "Requirement already satisfied: dm-tree in c:\\anaconda3\\lib\\site-packages (from tensorflow_datasets) (0.1.8)\n",
      "Requirement already satisfied: absl-py in c:\\anaconda3\\lib\\site-packages (from tensorflow_datasets) (1.0.0)\n",
      "Requirement already satisfied: wrapt in c:\\anaconda3\\lib\\site-packages (from tensorflow_datasets) (1.12.1)\n",
      "Requirement already satisfied: protobuf>=3.20 in c:\\anaconda3\\lib\\site-packages (from tensorflow_datasets) (3.20.3)\n",
      "Requirement already satisfied: etils[enp,epath]>=0.9.0 in c:\\anaconda3\\lib\\site-packages (from tensorflow_datasets) (1.3.0)\n",
      "Requirement already satisfied: array-record in c:\\anaconda3\\lib\\site-packages (from tensorflow_datasets) (0.4.0)\n",
      "Requirement already satisfied: tensorflow-metadata in c:\\anaconda3\\lib\\site-packages (from tensorflow_datasets) (1.14.0)\n",
      "Requirement already satisfied: toml in c:\\anaconda3\\lib\\site-packages (from tensorflow_datasets) (0.10.2)\n",
      "Requirement already satisfied: click in c:\\anaconda3\\lib\\site-packages (from tensorflow_datasets) (7.1.2)\n",
      "Requirement already satisfied: numpy in c:\\anaconda3\\lib\\site-packages (from tensorflow_datasets) (1.20.1)\n",
      "Requirement already satisfied: importlib-resources in c:\\anaconda3\\lib\\site-packages (from tensorflow_datasets) (6.0.1)\n",
      "Requirement already satisfied: termcolor in c:\\anaconda3\\lib\\site-packages (from tensorflow_datasets) (1.1.0)\n",
      "Requirement already satisfied: requests>=2.19.0 in c:\\anaconda3\\lib\\site-packages (from tensorflow_datasets) (2.25.1)\n",
      "Requirement already satisfied: tqdm in c:\\anaconda3\\lib\\site-packages (from tensorflow_datasets) (4.59.0)\n",
      "Requirement already satisfied: typing_extensions in c:\\users\\sadia_tisha1\\appdata\\roaming\\python\\python38\\site-packages (from etils[enp,epath]>=0.9.0->tensorflow_datasets) (4.6.3)\n",
      "Requirement already satisfied: zipp in c:\\users\\sadia_tisha1\\appdata\\roaming\\python\\python38\\site-packages (from etils[enp,epath]>=0.9.0->tensorflow_datasets) (3.15.0)\n",
      "Requirement already satisfied: urllib3<1.27,>=1.21.1 in c:\\anaconda3\\lib\\site-packages (from requests>=2.19.0->tensorflow_datasets) (1.26.4)\n",
      "Requirement already satisfied: certifi>=2017.4.17 in c:\\anaconda3\\lib\\site-packages (from requests>=2.19.0->tensorflow_datasets) (2023.7.22)\n",
      "Requirement already satisfied: chardet<5,>=3.0.2 in c:\\anaconda3\\lib\\site-packages (from requests>=2.19.0->tensorflow_datasets) (4.0.0)\n",
      "Requirement already satisfied: idna<3,>=2.5 in c:\\anaconda3\\lib\\site-packages (from requests>=2.19.0->tensorflow_datasets) (2.10)\n",
      "Requirement already satisfied: six in c:\\anaconda3\\lib\\site-packages (from absl-py->tensorflow_datasets) (1.15.0)\n",
      "Requirement already satisfied: googleapis-common-protos<2,>=1.52.0 in c:\\anaconda3\\lib\\site-packages (from tensorflow-metadata->tensorflow_datasets) (1.60.0)\n",
      "Note: you may need to restart the kernel to use updated packages.\n"
     ]
    }
   ],
   "source": [
    "pip install tensorflow_datasets"
   ]
  },
  {
   "cell_type": "code",
   "execution_count": 2,
   "id": "682f9447",
   "metadata": {},
   "outputs": [],
   "source": [
    "import tensorflow as tf\n",
    "import tensorflow_datasets as tfds\n",
    "import tensorflow_datasets as tfds\n",
    "from tensorflow.keras.applications import ResNet50\n",
    "from tensorflow.keras.models import Sequential\n",
    "from tensorflow.keras.layers import Dense, GlobalAveragePooling2D\n",
    "from tensorflow.keras.optimizers import Adam\n",
    "import numpy as np\n",
    "from sklearn.preprocessing import LabelEncoder\n",
    "from sklearn.model_selection import train_test_split\n",
    "from tensorflow.keras.utils import to_categorical\n",
    "\n",
    "# Load the Food101 dataset\n",
    "(ds_train, ds_test), ds_info = tfds.load('food101', split=['train[:80%]', 'train[80%:]'], as_supervised=True, with_info=True)\n",
    "\n"
   ]
  },
  {
   "cell_type": "code",
   "execution_count": 3,
   "id": "74d19d42",
   "metadata": {},
   "outputs": [
    {
     "name": "stdout",
     "output_type": "stream",
     "text": [
      "Images shape: (64, 32, 32, 3)\n",
      "Labels shape: (64, 101)\n",
      "Images shape: (64, 32, 32, 3)\n",
      "Labels shape: (64, 101)\n"
     ]
    }
   ],
   "source": [
    "# Define a function to resize images\n",
    "def resize_image(image, label):\n",
    "    image = tf.image.resize(image, (32, 32))\n",
    "    return image, label\n",
    "\n",
    "# Apply resizing to the dataset\n",
    "ds_train = ds_train.map(resize_image)\n",
    "ds_test = ds_test.map(resize_image)\n",
    "\n",
    "# Normalize pixel values to be in the range [0, 1]\n",
    "ds_train = ds_train.map(lambda x, y: (tf.cast(x, tf.float32) / 255.0, y))\n",
    "ds_test = ds_test.map(lambda x, y: (tf.cast(x, tf.float32) / 255.0, y))\n",
    "\n",
    "# Shuffle and batch the datasets\n",
    "ds_train = ds_train.shuffle(10000).batch(64)\n",
    "ds_test = ds_test.batch(64)\n",
    "\n",
    "# Convert labels to categorical format\n",
    "def categorical_labels(images, labels):\n",
    "    return images, tf.one_hot(labels, depth=101)  # 101 classes in Food101 dataset\n",
    "\n",
    "ds_train = ds_train.map(categorical_labels)\n",
    "ds_test = ds_test.map(categorical_labels)\n",
    "\n",
    "# Verify the shapes\n",
    "for images, labels in ds_train.take(1):\n",
    "    print(\"Images shape:\", images.shape)\n",
    "    print(\"Labels shape:\", labels.shape)\n",
    "\n",
    "for images, labels in ds_test.take(1):\n",
    "    print(\"Images shape:\", images.shape)\n",
    "    print(\"Labels shape:\", labels.shape)\n",
    "\n"
   ]
  },
  {
   "cell_type": "code",
   "execution_count": 5,
   "id": "606146b1",
   "metadata": {},
   "outputs": [],
   "source": [
    "\n",
    "# Create the ResNet model without the top (fully connected) layers\n",
    "base_model = ResNet50(weights='imagenet', include_top=False, input_shape=(32, 32, 3))\n",
    "\n",
    "# Add the top layers for classification\n",
    "model = Sequential()\n",
    "model.add(base_model)\n",
    "model.add(GlobalAveragePooling2D())\n",
    "model.add(Dense(101, activation='softmax'))  # Change the number of units to 101 for Food101 dataset\n",
    "model.compile(optimizer=Adam(learning_rate=0.001), loss='categorical_crossentropy', metrics=['accuracy'])\n",
    "\n"
   ]
  },
  {
   "cell_type": "code",
   "execution_count": 6,
   "id": "095ba2ab",
   "metadata": {},
   "outputs": [
    {
     "name": "stdout",
     "output_type": "stream",
     "text": [
      "Epoch 1/50\n",
      "947/947 [==============================] - 3072s 3s/step - loss: 4.8191 - accuracy: 0.0405\n",
      "Epoch 2/50\n",
      "947/947 [==============================] - 3901s 4s/step - loss: 4.4011 - accuracy: 0.0783\n",
      "Epoch 3/50\n",
      "947/947 [==============================] - 3971s 4s/step - loss: 3.8789 - accuracy: 0.1152\n",
      "Epoch 4/50\n",
      "947/947 [==============================] - 3919s 4s/step - loss: 3.6513 - accuracy: 0.1514\n",
      "Epoch 5/50\n",
      "947/947 [==============================] - 3877s 4s/step - loss: 3.5831 - accuracy: 0.1600\n",
      "Epoch 6/50\n",
      "947/947 [==============================] - 2775s 3s/step - loss: 3.4554 - accuracy: 0.1812\n",
      "Epoch 7/50\n",
      "947/947 [==============================] - 3783s 4s/step - loss: 3.3515 - accuracy: 0.2003\n",
      "Epoch 8/50\n",
      "947/947 [==============================] - 3982s 4s/step - loss: 3.2110 - accuracy: 0.2223\n",
      "Epoch 9/50\n",
      "947/947 [==============================] - 4023s 4s/step - loss: 3.0344 - accuracy: 0.2538\n",
      "Epoch 10/50\n",
      "947/947 [==============================] - 4007s 4s/step - loss: 2.8754 - accuracy: 0.2843\n",
      "Epoch 11/50\n",
      "947/947 [==============================] - 2626s 3s/step - loss: 2.7276 - accuracy: 0.3112\n",
      "Epoch 12/50\n",
      "947/947 [==============================] - 3140s 3s/step - loss: 2.5243 - accuracy: 0.3509\n",
      "Epoch 13/50\n",
      "947/947 [==============================] - 3886s 4s/step - loss: 2.3303 - accuracy: 0.3882\n",
      "Epoch 14/50\n",
      "947/947 [==============================] - 4014s 4s/step - loss: 2.1028 - accuracy: 0.4380\n",
      "Epoch 15/50\n",
      "947/947 [==============================] - 4062s 4s/step - loss: 1.9413 - accuracy: 0.4715\n",
      "Epoch 16/50\n",
      "947/947 [==============================] - 3296s 3s/step - loss: 1.6978 - accuracy: 0.5280\n",
      "Epoch 17/50\n",
      "947/947 [==============================] - 2782s 3s/step - loss: 1.6142 - accuracy: 0.5468\n",
      "Epoch 18/50\n",
      "947/947 [==============================] - 3733s 4s/step - loss: 1.5050 - accuracy: 0.5777\n",
      "Epoch 19/50\n",
      "947/947 [==============================] - 3958s 4s/step - loss: 1.4343 - accuracy: 0.5957\n",
      "Epoch 20/50\n",
      "947/947 [==============================] - 4022s 4s/step - loss: 1.4980 - accuracy: 0.5801\n",
      "Epoch 21/50\n",
      "947/947 [==============================] - 3879s 4s/step - loss: 1.1553 - accuracy: 0.6629\n",
      "Epoch 22/50\n",
      "947/947 [==============================] - 2599s 3s/step - loss: 0.9021 - accuracy: 0.7312\n",
      "Epoch 23/50\n",
      "947/947 [==============================] - 2711s 3s/step - loss: 0.8711 - accuracy: 0.7399\n",
      "Epoch 24/50\n",
      "947/947 [==============================] - 3260s 3s/step - loss: 1.0706 - accuracy: 0.6972\n",
      "Epoch 25/50\n",
      "947/947 [==============================] - 3796s 4s/step - loss: 1.4506 - accuracy: 0.5888\n",
      "Epoch 26/50\n",
      "947/947 [==============================] - 3923s 4s/step - loss: 0.6035 - accuracy: 0.8203\n",
      "Epoch 27/50\n",
      "947/947 [==============================] - 3976s 4s/step - loss: 0.4792 - accuracy: 0.8560\n",
      "Epoch 28/50\n",
      "947/947 [==============================] - 2728s 3s/step - loss: 0.3773 - accuracy: 0.8831\n",
      "Epoch 29/50\n",
      "947/947 [==============================] - 2656s 3s/step - loss: 0.5880 - accuracy: 0.8286\n",
      "Epoch 30/50\n",
      "947/947 [==============================] - 2777s 3s/step - loss: 0.7656 - accuracy: 0.7698\n",
      "Epoch 31/50\n",
      "947/947 [==============================] - 3457s 4s/step - loss: 0.4687 - accuracy: 0.8576\n",
      "Epoch 32/50\n",
      "947/947 [==============================] - 3790s 4s/step - loss: 0.3679 - accuracy: 0.8867\n",
      "Epoch 33/50\n",
      "947/947 [==============================] - 3873s 4s/step - loss: 0.4825 - accuracy: 0.8534\n",
      "Epoch 34/50\n",
      "947/947 [==============================] - 3553s 4s/step - loss: 0.4020 - accuracy: 0.8749\n",
      "Epoch 35/50\n",
      "947/947 [==============================] - 2582s 3s/step - loss: 0.5309 - accuracy: 0.8431\n",
      "Epoch 36/50\n",
      "947/947 [==============================] - 2686s 3s/step - loss: 0.2807 - accuracy: 0.9126\n",
      "Epoch 37/50\n",
      "947/947 [==============================] - 2764s 3s/step - loss: 0.2916 - accuracy: 0.9088\n",
      "Epoch 38/50\n",
      "947/947 [==============================] - 2861s 3s/step - loss: 0.2954 - accuracy: 0.9062\n",
      "Epoch 39/50\n",
      "947/947 [==============================] - 3454s 4s/step - loss: 0.2819 - accuracy: 0.9116\n",
      "Epoch 40/50\n",
      "947/947 [==============================] - 3683s 4s/step - loss: 0.2338 - accuracy: 0.9258\n",
      "Epoch 41/50\n",
      "947/947 [==============================] - 3901s 4s/step - loss: 0.3554 - accuracy: 0.8904\n",
      "Epoch 42/50\n",
      "947/947 [==============================] - 2608s 3s/step - loss: 0.2623 - accuracy: 0.9176\n",
      "Epoch 43/50\n",
      "947/947 [==============================] - 2559s 3s/step - loss: 0.2209 - accuracy: 0.9298\n",
      "Epoch 44/50\n",
      "947/947 [==============================] - 2671s 3s/step - loss: 0.2110 - accuracy: 0.9340\n",
      "Epoch 45/50\n",
      "947/947 [==============================] - 2731s 3s/step - loss: 0.2702 - accuracy: 0.9167\n",
      "Epoch 46/50\n",
      "947/947 [==============================] - 2834s 3s/step - loss: 0.2618 - accuracy: 0.9185\n",
      "Epoch 47/50\n",
      "947/947 [==============================] - 3284s 3s/step - loss: 0.3672 - accuracy: 0.8879\n",
      "Epoch 48/50\n",
      "947/947 [==============================] - 3531s 4s/step - loss: 0.2617 - accuracy: 0.9186\n",
      "Epoch 49/50\n",
      "947/947 [==============================] - 3873s 4s/step - loss: 0.2434 - accuracy: 0.9268\n",
      "Epoch 50/50\n",
      "947/947 [==============================] - 2487s 3s/step - loss: 0.1586 - accuracy: 0.9504\n"
     ]
    },
    {
     "data": {
      "text/plain": [
       "<keras.callbacks.History at 0x28475f22a30>"
      ]
     },
     "execution_count": 6,
     "metadata": {},
     "output_type": "execute_result"
    }
   ],
   "source": [
    "model.fit(ds_train, batch_size=64, epochs=50)"
   ]
  },
  {
   "cell_type": "code",
   "execution_count": 7,
   "id": "a9efd4eb",
   "metadata": {},
   "outputs": [
    {
     "name": "stdout",
     "output_type": "stream",
     "text": [
      "Test Accuracy: 0.17042904290429042\n",
      "Accuracy: 0.17042904290429042\n",
      "F1 Score: 0.1720990490234784\n"
     ]
    }
   ],
   "source": [
    "from sklearn.metrics import accuracy_score,f1_score,confusion_matrix\n",
    "\n",
    "# Make predictions on the test dataset\n",
    "predictions = model.predict(ds_test)\n",
    "\n",
    "# Convert one-hot encoded predictions back to class labels\n",
    "predicted_labels = np.argmax(predictions, axis=1)\n",
    "\n",
    "# Manually generate ground truth labels for evaluation\n",
    "true_labels = []\n",
    "for _, label in ds_test:\n",
    "    true_labels.extend(label.numpy())\n",
    "\n",
    "true_labels = np.argmax(true_labels, axis=1)\n",
    "\n",
    "# Calculate accuracy\n",
    "accuracy = accuracy_score(true_labels, predicted_labels)\n",
    "\n",
    "# Calculate F1 score\n",
    "f1 = f1_score(true_labels, predicted_labels, average='weighted')\n",
    "\n",
    "# Calculate confusion matrix\n",
    "conf_matrix = confusion_matrix(true_labels, predicted_labels)\n",
    "\n",
    "# Assuming you have test_loss and test_accuracy available\n",
    "# If not, you'll need to calculate them based on your model and test dataset\n",
    "print(f\"Test Accuracy: {accuracy}\")\n",
    "print(f\"Accuracy: {accuracy}\")\n",
    "print(f\"F1 Score: {f1}\")"
   ]
  },
  {
   "cell_type": "code",
   "execution_count": null,
   "id": "287aff3f",
   "metadata": {},
   "outputs": [],
   "source": []
  },
  {
   "cell_type": "code",
   "execution_count": null,
   "id": "7e68d10e",
   "metadata": {},
   "outputs": [],
   "source": []
  },
  {
   "cell_type": "code",
   "execution_count": null,
   "id": "de2851ea",
   "metadata": {},
   "outputs": [],
   "source": []
  },
  {
   "cell_type": "code",
   "execution_count": null,
   "id": "43165ad8",
   "metadata": {},
   "outputs": [],
   "source": []
  },
  {
   "cell_type": "code",
   "execution_count": null,
   "id": "ce09e57c",
   "metadata": {},
   "outputs": [],
   "source": []
  },
  {
   "cell_type": "code",
   "execution_count": null,
   "id": "47e6ead7",
   "metadata": {},
   "outputs": [],
   "source": []
  }
 ],
 "metadata": {
  "kernelspec": {
   "display_name": "Python 3 (ipykernel)",
   "language": "python",
   "name": "python3"
  },
  "language_info": {
   "codemirror_mode": {
    "name": "ipython",
    "version": 3
   },
   "file_extension": ".py",
   "mimetype": "text/x-python",
   "name": "python",
   "nbconvert_exporter": "python",
   "pygments_lexer": "ipython3",
   "version": "3.8.8"
  }
 },
 "nbformat": 4,
 "nbformat_minor": 5
}
