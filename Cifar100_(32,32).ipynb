{
 "cells": [
  {
   "cell_type": "code",
   "execution_count": 1,
   "id": "2666249e",
   "metadata": {},
   "outputs": [],
   "source": [
    "import tensorflow as tf\n",
    "from tensorflow import keras\n",
    "from tensorflow.keras.datasets import cifar100\n",
    "from tensorflow.keras.applications import MobileNet\n",
    "from tensorflow.keras.models import Sequential\n",
    "from tensorflow.keras.layers import Dense, GlobalAveragePooling2D\n",
    "from tensorflow.keras.optimizers import Adam\n",
    "from tensorflow.keras.optimizers.legacy import Adam as LegacyAdam\n",
    "from tensorflow.keras.preprocessing.image import ImageDataGenerator\n",
    "# Load the CIFAR-100 dataset\n",
    "(x_train, y_train), (x_test, y_test) = cifar100.load_data()\n",
    "\n",
    "# Normalize the pixel values between 0 and 1\n",
    "x_train = x_train.astype('float32') / 255.0\n",
    "x_test = x_test.astype('float32') / 255.0\n",
    "\n",
    "# Convert the labels to one-hot encoding with 100 classes\n",
    "y_train = keras.utils.to_categorical(y_train, 100)\n",
    "y_test = keras.utils.to_categorical(y_test, 100)\n",
    "\n",
    "\n"
   ]
  },
  {
   "cell_type": "code",
   "execution_count": 2,
   "id": "89cd60d5",
   "metadata": {},
   "outputs": [],
   "source": [
    "from tensorflow.keras.applications import ResNet50\n",
    "from tensorflow.keras.models import Sequential\n",
    "from tensorflow.keras.layers import Dense, GlobalAveragePooling2D\n",
    "\n",
    "# Create the ResNet model without the top (fully connected) layers\n",
    "base_model = ResNet50(weights='imagenet', include_top=False, input_shape=(32, 32, 3))\n",
    "    \n",
    "# Add the top layers for classification\n",
    "model = Sequential()\n",
    "model.add(base_model)\n",
    "model.add(GlobalAveragePooling2D())\n",
    "model.add(Dense(100, activation='softmax'))\n",
    "\n",
    "optimizer = LegacyAdam(learning_rate=0.001)\n",
    "\n",
    "# Compile the model\n",
    "model.compile(optimizer=optimizer, loss='categorical_crossentropy', metrics=['accuracy'])\n"
   ]
  },
  {
   "cell_type": "code",
   "execution_count": 3,
   "id": "c523dbdd",
   "metadata": {},
   "outputs": [
    {
     "name": "stdout",
     "output_type": "stream",
     "text": [
      "Epoch 1/50\n",
      "625/625 [==============================] - 335s 534ms/step - loss: 4.4155 - accuracy: 0.1006 - val_loss: 5.7142 - val_accuracy: 0.0209\n",
      "Epoch 2/50\n",
      "625/625 [==============================] - 344s 550ms/step - loss: 4.0364 - accuracy: 0.1514 - val_loss: 3.8414 - val_accuracy: 0.1217\n",
      "Epoch 3/50\n",
      "625/625 [==============================] - 533s 853ms/step - loss: 3.1953 - accuracy: 0.2235 - val_loss: 4.1013 - val_accuracy: 0.1474\n",
      "Epoch 4/50\n",
      "625/625 [==============================] - 817s 1s/step - loss: 2.6887 - accuracy: 0.3115 - val_loss: 2.8090 - val_accuracy: 0.3055\n",
      "Epoch 5/50\n",
      "625/625 [==============================] - 1701s 3s/step - loss: 2.3740 - accuracy: 0.3721 - val_loss: 2.9966 - val_accuracy: 0.2810\n",
      "Epoch 6/50\n",
      "625/625 [==============================] - 525s 840ms/step - loss: 2.1152 - accuracy: 0.4279 - val_loss: 3.7704 - val_accuracy: 0.2314\n",
      "Epoch 7/50\n",
      "625/625 [==============================] - 3227s 5s/step - loss: 1.9073 - accuracy: 0.4746 - val_loss: 2.5528 - val_accuracy: 0.3603\n",
      "Epoch 8/50\n",
      "625/625 [==============================] - 4540s 7s/step - loss: 1.6952 - accuracy: 0.5228 - val_loss: 2.7926 - val_accuracy: 0.3449\n",
      "Epoch 9/50\n",
      "625/625 [==============================] - 516s 826ms/step - loss: 1.5021 - accuracy: 0.5664 - val_loss: 2.9222 - val_accuracy: 0.3346\n",
      "Epoch 10/50\n",
      "625/625 [==============================] - 547s 876ms/step - loss: 1.3071 - accuracy: 0.6151 - val_loss: 3.1478 - val_accuracy: 0.3131\n",
      "Epoch 11/50\n",
      "625/625 [==============================] - 571s 913ms/step - loss: 1.1250 - accuracy: 0.6614 - val_loss: 2.7379 - val_accuracy: 0.3891\n",
      "Epoch 12/50\n",
      "625/625 [==============================] - 2658s 4s/step - loss: 0.9519 - accuracy: 0.7084 - val_loss: 2.8884 - val_accuracy: 0.4008\n",
      "Epoch 13/50\n",
      "625/625 [==============================] - 6490s 10s/step - loss: 0.7831 - accuracy: 0.7570 - val_loss: 3.0142 - val_accuracy: 0.3973\n",
      "Epoch 14/50\n",
      "625/625 [==============================] - 492s 788ms/step - loss: 0.6618 - accuracy: 0.7912 - val_loss: 3.2217 - val_accuracy: 0.3865\n",
      "Epoch 15/50\n",
      "625/625 [==============================] - 537s 859ms/step - loss: 0.5445 - accuracy: 0.8279 - val_loss: 3.6838 - val_accuracy: 0.3474\n",
      "Epoch 16/50\n",
      "625/625 [==============================] - 568s 909ms/step - loss: 0.4658 - accuracy: 0.8508 - val_loss: 3.6495 - val_accuracy: 0.3744\n",
      "Epoch 17/50\n",
      "625/625 [==============================] - 580s 928ms/step - loss: 0.4029 - accuracy: 0.8709 - val_loss: 3.4894 - val_accuracy: 0.4114\n",
      "Epoch 18/50\n",
      "625/625 [==============================] - 573s 917ms/step - loss: 0.3537 - accuracy: 0.8864 - val_loss: 3.4175 - val_accuracy: 0.4178\n",
      "Epoch 19/50\n",
      "625/625 [==============================] - 581s 930ms/step - loss: 0.3200 - accuracy: 0.8960 - val_loss: 3.6952 - val_accuracy: 0.3941\n",
      "Epoch 20/50\n",
      "625/625 [==============================] - 581s 929ms/step - loss: 0.2864 - accuracy: 0.9069 - val_loss: 3.8472 - val_accuracy: 0.4024\n",
      "Epoch 21/50\n",
      "625/625 [==============================] - 609s 974ms/step - loss: 0.2723 - accuracy: 0.9113 - val_loss: 3.8657 - val_accuracy: 0.4125\n",
      "Epoch 22/50\n",
      "625/625 [==============================] - 3350s 5s/step - loss: 0.2535 - accuracy: 0.9183 - val_loss: 3.7355 - val_accuracy: 0.4238\n",
      "Epoch 23/50\n",
      "625/625 [==============================] - 532s 851ms/step - loss: 0.2200 - accuracy: 0.9291 - val_loss: 4.4270 - val_accuracy: 0.3762\n",
      "Epoch 24/50\n",
      "625/625 [==============================] - 614s 983ms/step - loss: 0.2336 - accuracy: 0.9250 - val_loss: 4.5595 - val_accuracy: 0.3608\n",
      "Epoch 25/50\n",
      "625/625 [==============================] - 584s 935ms/step - loss: 0.2244 - accuracy: 0.9276 - val_loss: 4.5106 - val_accuracy: 0.3809\n",
      "Epoch 26/50\n",
      "625/625 [==============================] - 605s 968ms/step - loss: 0.1901 - accuracy: 0.9382 - val_loss: 4.1348 - val_accuracy: 0.4113\n",
      "Epoch 27/50\n",
      "625/625 [==============================] - 600s 960ms/step - loss: 0.1775 - accuracy: 0.9427 - val_loss: 4.3220 - val_accuracy: 0.3976\n",
      "Epoch 28/50\n",
      "625/625 [==============================] - 604s 967ms/step - loss: 0.1874 - accuracy: 0.9388 - val_loss: 4.4963 - val_accuracy: 0.3973\n",
      "Epoch 29/50\n",
      "625/625 [==============================] - 603s 965ms/step - loss: 0.1858 - accuracy: 0.9406 - val_loss: 4.6312 - val_accuracy: 0.3846\n",
      "Epoch 30/50\n",
      "625/625 [==============================] - 599s 958ms/step - loss: 0.1661 - accuracy: 0.9459 - val_loss: 4.4438 - val_accuracy: 0.4049\n",
      "Epoch 31/50\n",
      "625/625 [==============================] - 600s 960ms/step - loss: 0.1568 - accuracy: 0.9488 - val_loss: 4.5219 - val_accuracy: 0.3923\n",
      "Epoch 32/50\n",
      "625/625 [==============================] - 743s 1s/step - loss: 0.1549 - accuracy: 0.9503 - val_loss: 4.2708 - val_accuracy: 0.4276\n",
      "Epoch 33/50\n",
      "625/625 [==============================] - 862s 1s/step - loss: 0.1665 - accuracy: 0.9456 - val_loss: 4.4332 - val_accuracy: 0.4218\n",
      "Epoch 34/50\n",
      "625/625 [==============================] - 861s 1s/step - loss: 0.1499 - accuracy: 0.9522 - val_loss: 4.7573 - val_accuracy: 0.3979\n",
      "Epoch 35/50\n",
      "625/625 [==============================] - 865s 1s/step - loss: 0.1305 - accuracy: 0.9589 - val_loss: 5.1203 - val_accuracy: 0.3664\n",
      "Epoch 36/50\n",
      "625/625 [==============================] - 877s 1s/step - loss: 0.1331 - accuracy: 0.9572 - val_loss: 4.6140 - val_accuracy: 0.4167\n",
      "Epoch 37/50\n",
      "625/625 [==============================] - 899s 1s/step - loss: 0.1353 - accuracy: 0.9568 - val_loss: 4.7214 - val_accuracy: 0.4003\n",
      "Epoch 38/50\n",
      "625/625 [==============================] - 2138s 3s/step - loss: 0.1318 - accuracy: 0.9562 - val_loss: 4.6595 - val_accuracy: 0.4218\n",
      "Epoch 39/50\n",
      "625/625 [==============================] - 863s 1s/step - loss: 0.1359 - accuracy: 0.9575 - val_loss: 4.6620 - val_accuracy: 0.3966\n",
      "Epoch 40/50\n",
      "625/625 [==============================] - 960s 2s/step - loss: 0.1240 - accuracy: 0.9588 - val_loss: 4.7799 - val_accuracy: 0.4044\n",
      "Epoch 41/50\n",
      "625/625 [==============================] - 885s 1s/step - loss: 0.1184 - accuracy: 0.9623 - val_loss: 4.8237 - val_accuracy: 0.4102\n",
      "Epoch 42/50\n",
      "625/625 [==============================] - 732s 1s/step - loss: 0.1339 - accuracy: 0.9578 - val_loss: 4.6569 - val_accuracy: 0.4128\n",
      "Epoch 43/50\n",
      "625/625 [==============================] - 2291s 4s/step - loss: 0.1024 - accuracy: 0.9675 - val_loss: 5.4921 - val_accuracy: 0.3700\n",
      "Epoch 44/50\n",
      "625/625 [==============================] - 2411s 4s/step - loss: 0.1077 - accuracy: 0.9663 - val_loss: 4.7267 - val_accuracy: 0.4236\n",
      "Epoch 45/50\n",
      "625/625 [==============================] - 657s 1s/step - loss: 0.1138 - accuracy: 0.9639 - val_loss: 4.8082 - val_accuracy: 0.4140\n",
      "Epoch 46/50\n",
      "625/625 [==============================] - 805s 1s/step - loss: 0.1143 - accuracy: 0.9640 - val_loss: 4.8161 - val_accuracy: 0.4254\n",
      "Epoch 47/50\n",
      "625/625 [==============================] - 966s 2s/step - loss: 0.1054 - accuracy: 0.9672 - val_loss: 4.8584 - val_accuracy: 0.4241\n",
      "Epoch 48/50\n",
      "625/625 [==============================] - 879s 1s/step - loss: 0.1037 - accuracy: 0.9679 - val_loss: 4.9618 - val_accuracy: 0.4209\n",
      "Epoch 49/50\n",
      "625/625 [==============================] - 1100s 2s/step - loss: 0.1057 - accuracy: 0.9669 - val_loss: 5.3404 - val_accuracy: 0.3884\n",
      "Epoch 50/50\n",
      "625/625 [==============================] - 1213s 2s/step - loss: 0.0957 - accuracy: 0.9695 - val_loss: 6.2526 - val_accuracy: 0.3486\n"
     ]
    },
    {
     "data": {
      "text/plain": [
       "<keras.src.callbacks.History at 0x14eb8b550>"
      ]
     },
     "execution_count": 3,
     "metadata": {},
     "output_type": "execute_result"
    }
   ],
   "source": [
    "# Train the model\n",
    "model.fit(x_train, y_train, batch_size=64, epochs=50, validation_split = .2)"
   ]
  },
  {
   "cell_type": "code",
   "execution_count": 4,
   "id": "960bd789",
   "metadata": {},
   "outputs": [
    {
     "name": "stdout",
     "output_type": "stream",
     "text": [
      "313/313 [==============================] - 34s 107ms/step\n",
      "Accuracy: 0.3574\n",
      "F1 Score (Micro): 0.3574\n"
     ]
    }
   ],
   "source": [
    "import numpy as np\n",
    "from sklearn.metrics import accuracy_score, f1_score\n",
    "\n",
    "# Assuming you have trained a model and obtained predicted probabilities on x_test\n",
    "y_pred_prob = model.predict(x_test)\n",
    "\n",
    "# Convert predicted probabilities to predicted labels\n",
    "y_pred = np.argmax(y_pred_prob, axis=1)\n",
    "\n",
    "# Convert y_test to predicted labels format\n",
    "y_test_labels = np.argmax(y_test, axis=1)\n",
    "\n",
    "# Calculate accuracy\n",
    "accuracy = accuracy_score(y_test_labels, y_pred)\n",
    "print(\"Accuracy:\", accuracy)\n",
    "\n",
    "# Calculate F1 score (micro-average)\n",
    "f1_micro = f1_score(y_test_labels, y_pred, average='micro')\n",
    "print(\"F1 Score (Micro):\", f1_micro)"
   ]
  },
  {
   "cell_type": "code",
   "execution_count": null,
   "id": "bed19658",
   "metadata": {},
   "outputs": [],
   "source": []
  },
  {
   "cell_type": "code",
   "execution_count": null,
   "id": "37bb84f1",
   "metadata": {},
   "outputs": [],
   "source": []
  },
  {
   "cell_type": "code",
   "execution_count": null,
   "id": "dd0d6e0e",
   "metadata": {},
   "outputs": [],
   "source": []
  },
  {
   "cell_type": "code",
   "execution_count": null,
   "id": "59bf6c5f",
   "metadata": {},
   "outputs": [],
   "source": []
  },
  {
   "cell_type": "code",
   "execution_count": null,
   "id": "dd0e08c8",
   "metadata": {},
   "outputs": [],
   "source": []
  },
  {
   "cell_type": "code",
   "execution_count": null,
   "id": "a13d1eb1",
   "metadata": {},
   "outputs": [],
   "source": []
  },
  {
   "cell_type": "code",
   "execution_count": null,
   "id": "bcaeb1e4",
   "metadata": {},
   "outputs": [],
   "source": []
  },
  {
   "cell_type": "code",
   "execution_count": null,
   "id": "5fd75a3b",
   "metadata": {},
   "outputs": [],
   "source": []
  },
  {
   "cell_type": "code",
   "execution_count": null,
   "id": "d0ab04b4",
   "metadata": {},
   "outputs": [],
   "source": []
  },
  {
   "cell_type": "code",
   "execution_count": null,
   "id": "e4aaefb3",
   "metadata": {},
   "outputs": [],
   "source": []
  },
  {
   "cell_type": "code",
   "execution_count": null,
   "id": "4c9fe711",
   "metadata": {},
   "outputs": [],
   "source": []
  },
  {
   "cell_type": "code",
   "execution_count": null,
   "id": "0e2d3286",
   "metadata": {},
   "outputs": [],
   "source": []
  },
  {
   "cell_type": "code",
   "execution_count": null,
   "id": "d5f1b34d",
   "metadata": {},
   "outputs": [],
   "source": []
  }
 ],
 "metadata": {
  "kernelspec": {
   "display_name": "Python 3 (ipykernel)",
   "language": "python",
   "name": "python3"
  },
  "language_info": {
   "codemirror_mode": {
    "name": "ipython",
    "version": 3
   },
   "file_extension": ".py",
   "mimetype": "text/x-python",
   "name": "python",
   "nbconvert_exporter": "python",
   "pygments_lexer": "ipython3",
   "version": "3.11.4"
  }
 },
 "nbformat": 4,
 "nbformat_minor": 5
}
