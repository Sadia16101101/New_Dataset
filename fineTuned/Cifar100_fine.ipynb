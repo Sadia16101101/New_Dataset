{
 "cells": [
  {
   "cell_type": "code",
   "execution_count": 3,
   "id": "2666249e",
   "metadata": {},
   "outputs": [
    {
     "name": "stdout",
     "output_type": "stream",
     "text": [
      "Downloading data from https://www.cs.toronto.edu/~kriz/cifar-100-python.tar.gz\n",
      "169009152/169001437 [==============================] - 6s 0us/step\n",
      "169017344/169001437 [==============================] - 6s 0us/step\n"
     ]
    }
   ],
   "source": [
    "import tensorflow as tf\n",
    "from tensorflow import keras\n",
    "from tensorflow.keras.datasets import cifar100\n",
    "from tensorflow.keras.applications import MobileNet\n",
    "from tensorflow.keras.models import Sequential\n",
    "from tensorflow.keras.layers import Dense, GlobalAveragePooling2D\n",
    "from tensorflow.keras.optimizers import Adam\n",
    "from tensorflow.keras.preprocessing.image import ImageDataGenerator\n",
    "# Load the CIFAR-100 dataset\n",
    "(x_train, y_train), (x_test, y_test) = cifar100.load_data()\n",
    "\n",
    "# Normalize the pixel values between 0 and 1\n",
    "x_train = x_train.astype('float32') / 255.0\n",
    "x_test = x_test.astype('float32') / 255.0\n",
    "\n",
    "# Convert the labels to one-hot encoding with 100 classes\n",
    "y_train = keras.utils.to_categorical(y_train, 100)\n",
    "y_test = keras.utils.to_categorical(y_test, 100)"
   ]
  },
  {
   "cell_type": "code",
   "execution_count": 4,
   "id": "3fe20ab2",
   "metadata": {},
   "outputs": [
    {
     "name": "stdout",
     "output_type": "stream",
     "text": [
      "(50000, 32, 32, 3)\n",
      "(50000, 100)\n",
      "(10000, 32, 32, 3)\n",
      "(10000, 100)\n"
     ]
    }
   ],
   "source": [
    "print( np.shape(x_train))\n",
    "print(np.shape(y_train)) \n",
    "print(np.shape(x_test)) \n",
    "print(np.shape(y_test)) "
   ]
  },
  {
   "cell_type": "code",
   "execution_count": 5,
   "id": "2f9dda49",
   "metadata": {},
   "outputs": [],
   "source": [
    "from tensorflow import keras\n",
    "model = keras.models.load_model(r'C:\\Users\\sadia_tisha1\\Downloads\\Cifar100_32_model.h5')\n",
    "#model = keras.models.load_model(r'D:\\Python\\300class_model.h5')"
   ]
  },
  {
   "cell_type": "code",
   "execution_count": 6,
   "id": "a07a19a9",
   "metadata": {},
   "outputs": [
    {
     "name": "stdout",
     "output_type": "stream",
     "text": [
      "Epoch 1/50\n",
      "625/625 [==============================] - 1526s 2s/step - loss: 4.0415 - accuracy: 0.1591 - val_loss: 80.1618 - val_accuracy: 0.0543\n",
      "Epoch 2/50\n",
      "625/625 [==============================] - 1508s 2s/step - loss: 4.2078 - accuracy: 0.1287 - val_loss: 4.6946 - val_accuracy: 0.1663\n",
      "Epoch 3/50\n",
      "625/625 [==============================] - 1506s 2s/step - loss: 3.6664 - accuracy: 0.1766 - val_loss: 4.4470 - val_accuracy: 0.1986\n",
      "Epoch 4/50\n",
      "625/625 [==============================] - 1531s 2s/step - loss: 3.2708 - accuracy: 0.2383 - val_loss: 3.3852 - val_accuracy: 0.2712\n",
      "Epoch 5/50\n",
      "625/625 [==============================] - 1648s 3s/step - loss: 2.8645 - accuracy: 0.3055 - val_loss: 2.8532 - val_accuracy: 0.2936\n",
      "Epoch 6/50\n",
      "625/625 [==============================] - 2086s 3s/step - loss: 2.6679 - accuracy: 0.3447 - val_loss: 3.0973 - val_accuracy: 0.2957\n",
      "Epoch 7/50\n",
      "625/625 [==============================] - 1450s 2s/step - loss: 2.7066 - accuracy: 0.3339 - val_loss: 2.8619 - val_accuracy: 0.3016\n",
      "Epoch 8/50\n",
      "625/625 [==============================] - 1449s 2s/step - loss: 2.6713 - accuracy: 0.3508 - val_loss: 112.3209 - val_accuracy: 0.1416\n",
      "Epoch 9/50\n",
      "625/625 [==============================] - 1456s 2s/step - loss: 2.3474 - accuracy: 0.4058 - val_loss: 5.9467 - val_accuracy: 0.3336\n",
      "Epoch 10/50\n",
      "625/625 [==============================] - 1463s 2s/step - loss: 2.1454 - accuracy: 0.4478 - val_loss: 2.8711 - val_accuracy: 0.3605\n",
      "Epoch 11/50\n",
      "625/625 [==============================] - 1474s 2s/step - loss: 1.9115 - accuracy: 0.5016 - val_loss: 4.5044 - val_accuracy: 0.3471\n",
      "Epoch 12/50\n",
      "625/625 [==============================] - 1470s 2s/step - loss: 1.7188 - accuracy: 0.5407 - val_loss: 11.2525 - val_accuracy: 0.2907\n",
      "Epoch 13/50\n",
      "625/625 [==============================] - 1472s 2s/step - loss: 1.5141 - accuracy: 0.5901 - val_loss: 14.9557 - val_accuracy: 0.3157\n",
      "Epoch 14/50\n",
      "625/625 [==============================] - 1497s 2s/step - loss: 1.7438 - accuracy: 0.5439 - val_loss: 2.7839 - val_accuracy: 0.3563\n",
      "Epoch 15/50\n",
      "625/625 [==============================] - 1478s 2s/step - loss: 1.3495 - accuracy: 0.6268 - val_loss: 3.0056 - val_accuracy: 0.3712\n",
      "Epoch 16/50\n",
      "625/625 [==============================] - 1479s 2s/step - loss: 1.1408 - accuracy: 0.6875 - val_loss: 3.7676 - val_accuracy: 0.3692\n",
      "Epoch 17/50\n",
      "625/625 [==============================] - 1486s 2s/step - loss: 1.2130 - accuracy: 0.6620 - val_loss: 4.7484 - val_accuracy: 0.2735\n",
      "Epoch 18/50\n",
      "625/625 [==============================] - 1497s 2s/step - loss: 0.7125 - accuracy: 0.8011 - val_loss: 3.1955 - val_accuracy: 0.3744\n",
      "Epoch 19/50\n",
      "625/625 [==============================] - 1493s 2s/step - loss: 0.5211 - accuracy: 0.8571 - val_loss: 3.4503 - val_accuracy: 0.3807\n",
      "Epoch 20/50\n",
      "625/625 [==============================] - 1491s 2s/step - loss: 0.7823 - accuracy: 0.7787 - val_loss: 3.5579 - val_accuracy: 0.3391\n",
      "Epoch 21/50\n",
      "625/625 [==============================] - 1493s 2s/step - loss: 0.5961 - accuracy: 0.8306 - val_loss: 3.4518 - val_accuracy: 0.3807\n",
      "Epoch 22/50\n",
      "625/625 [==============================] - 1501s 2s/step - loss: 0.4305 - accuracy: 0.8840 - val_loss: 4.8537 - val_accuracy: 0.3944\n",
      "Epoch 23/50\n",
      "625/625 [==============================] - 1499s 2s/step - loss: 0.4246 - accuracy: 0.8806 - val_loss: 4.8823 - val_accuracy: 0.3050\n",
      "Epoch 24/50\n",
      "625/625 [==============================] - 1506s 2s/step - loss: 0.7024 - accuracy: 0.8023 - val_loss: 4.2233 - val_accuracy: 0.3526\n",
      "Epoch 25/50\n",
      "625/625 [==============================] - 1508s 2s/step - loss: 1.2878 - accuracy: 0.6471 - val_loss: 5.2590 - val_accuracy: 0.3476\n",
      "Epoch 26/50\n",
      "625/625 [==============================] - 1625s 3s/step - loss: 0.4746 - accuracy: 0.8631 - val_loss: 3.9972 - val_accuracy: 0.3639\n",
      "Epoch 27/50\n",
      "625/625 [==============================] - 1517s 2s/step - loss: 0.2491 - accuracy: 0.9342 - val_loss: 4.0791 - val_accuracy: 0.3741\n",
      "Epoch 28/50\n",
      "625/625 [==============================] - 1521s 2s/step - loss: 0.3374 - accuracy: 0.9059 - val_loss: 4.6931 - val_accuracy: 0.3709\n",
      "Epoch 29/50\n",
      "625/625 [==============================] - 1598s 3s/step - loss: 0.3482 - accuracy: 0.8978 - val_loss: 4.6742 - val_accuracy: 0.3413\n",
      "Epoch 30/50\n",
      "625/625 [==============================] - 1742s 3s/step - loss: 0.1548 - accuracy: 0.9574 - val_loss: 6.1473 - val_accuracy: 0.3665\n",
      "Epoch 31/50\n",
      "625/625 [==============================] - 1956s 3s/step - loss: 0.1579 - accuracy: 0.9562 - val_loss: 5.9666 - val_accuracy: 0.3649\n",
      "Epoch 32/50\n",
      "625/625 [==============================] - 1451s 2s/step - loss: 0.2877 - accuracy: 0.9132 - val_loss: 4.9931 - val_accuracy: 0.3728\n",
      "Epoch 33/50\n",
      "625/625 [==============================] - 1456s 2s/step - loss: 0.1297 - accuracy: 0.9635 - val_loss: 7.1428 - val_accuracy: 0.3655\n",
      "Epoch 34/50\n",
      "625/625 [==============================] - 1463s 2s/step - loss: 0.1546 - accuracy: 0.9572 - val_loss: 5.3829 - val_accuracy: 0.3739\n",
      "Epoch 35/50\n",
      "625/625 [==============================] - 1467s 2s/step - loss: 0.2181 - accuracy: 0.9357 - val_loss: 4.8232 - val_accuracy: 0.3645\n",
      "Epoch 36/50\n",
      "625/625 [==============================] - 1478s 2s/step - loss: 0.6776 - accuracy: 0.8218 - val_loss: 3.8059 - val_accuracy: 0.2953\n",
      "Epoch 37/50\n",
      "625/625 [==============================] - 1478s 2s/step - loss: 0.7163 - accuracy: 0.7876 - val_loss: 4.2712 - val_accuracy: 0.3689\n",
      "Epoch 38/50\n",
      "625/625 [==============================] - 1479s 2s/step - loss: 0.1636 - accuracy: 0.9546 - val_loss: 4.5430 - val_accuracy: 0.3654\n",
      "Epoch 39/50\n",
      "625/625 [==============================] - 1486s 2s/step - loss: 0.2756 - accuracy: 0.9214 - val_loss: 9.7285 - val_accuracy: 0.3391\n",
      "Epoch 40/50\n",
      "625/625 [==============================] - 1496s 2s/step - loss: 0.2541 - accuracy: 0.9250 - val_loss: 5.4796 - val_accuracy: 0.3748\n",
      "Epoch 41/50\n",
      "625/625 [==============================] - 1493s 2s/step - loss: 0.1150 - accuracy: 0.9676 - val_loss: 5.8636 - val_accuracy: 0.3753\n",
      "Epoch 42/50\n",
      "625/625 [==============================] - 1493s 2s/step - loss: 0.0657 - accuracy: 0.9827 - val_loss: 6.3688 - val_accuracy: 0.3779\n",
      "Epoch 43/50\n",
      "625/625 [==============================] - 1552s 2s/step - loss: 0.0822 - accuracy: 0.9765 - val_loss: 5.4546 - val_accuracy: 0.3749\n",
      "Epoch 44/50\n",
      "625/625 [==============================] - 1496s 2s/step - loss: 0.0984 - accuracy: 0.9708 - val_loss: 5.4573 - val_accuracy: 0.3641\n",
      "Epoch 45/50\n",
      "625/625 [==============================] - 1503s 2s/step - loss: 0.1117 - accuracy: 0.9669 - val_loss: 5.9868 - val_accuracy: 0.3464\n",
      "Epoch 46/50\n",
      "625/625 [==============================] - 1509s 2s/step - loss: 0.2408 - accuracy: 0.9261 - val_loss: 5.3045 - val_accuracy: 0.3600\n",
      "Epoch 47/50\n",
      "625/625 [==============================] - 1507s 2s/step - loss: 0.2239 - accuracy: 0.9328 - val_loss: 5.6732 - val_accuracy: 0.3663\n",
      "Epoch 48/50\n",
      "625/625 [==============================] - 1505s 2s/step - loss: 0.2386 - accuracy: 0.9277 - val_loss: 4.6909 - val_accuracy: 0.3786\n",
      "Epoch 49/50\n",
      "625/625 [==============================] - 1507s 2s/step - loss: 0.1082 - accuracy: 0.9689 - val_loss: 6.3987 - val_accuracy: 0.3681\n",
      "Epoch 50/50\n",
      "625/625 [==============================] - 1518s 2s/step - loss: 0.1202 - accuracy: 0.9650 - val_loss: 5.3652 - val_accuracy: 0.3623\n"
     ]
    },
    {
     "data": {
      "text/plain": [
       "<keras.callbacks.History at 0x19b1f53eca0>"
      ]
     },
     "execution_count": 6,
     "metadata": {},
     "output_type": "execute_result"
    }
   ],
   "source": [
    "from tensorflow.keras.applications import ResNet50\n",
    "from tensorflow.keras.models import Sequential\n",
    "from tensorflow.keras.layers import Dense, GlobalAveragePooling2D\n",
    "    \n",
    "num_classes = 100  # Update with the actual number of classes in your target data\n",
    "x = model.layers[-4].output  # Access the last 4th layer from the end\n",
    "x = GlobalAveragePooling2D()(x)\n",
    "output = Dense(num_classes, activation='softmax')(x)\n",
    "\n",
    "# Create the new model with the updated head\n",
    "new_model = keras.models.Model(inputs=model.input, outputs=output)\n",
    "\n",
    "# Compile the model\n",
    "new_model.compile(optimizer='adam', loss='categorical_crossentropy', metrics=['accuracy'])\n",
    "\n",
    "# Train the model\n",
    "new_model.fit(x_train, y_train, batch_size=64, epochs=50, validation_split=0.2)"
   ]
  },
  {
   "cell_type": "code",
   "execution_count": 7,
   "id": "89cd60d5",
   "metadata": {},
   "outputs": [
    {
     "name": "stdout",
     "output_type": "stream",
     "text": [
      "Accuracy: 0.3659\n",
      "F1 Score (Micro): 0.36589999999999995\n"
     ]
    }
   ],
   "source": [
    "import numpy as np\n",
    "from sklearn.metrics import accuracy_score, f1_score\n",
    "\n",
    "# Assuming you have trained a model and obtained predicted probabilities on x_test\n",
    "y_pred_prob = new_model.predict(x_test)\n",
    "\n",
    "# Convert predicted probabilities to predicted labels\n",
    "y_pred = np.argmax(y_pred_prob, axis=1)\n",
    "\n",
    "# Convert y_test to predicted labels format\n",
    "y_test_labels = np.argmax(y_test, axis=1)\n",
    "\n",
    "# Calculate accuracy\n",
    "accuracy = accuracy_score(y_test_labels, y_pred)\n",
    "print(\"Accuracy:\", accuracy)\n",
    "\n",
    "# Calculate F1 score (micro-average)\n",
    "f1_micro = f1_score(y_test_labels, y_pred, average='micro')\n",
    "print(\"F1 Score (Micro):\", f1_micro)"
   ]
  },
  {
   "cell_type": "code",
   "execution_count": null,
   "id": "960bd789",
   "metadata": {},
   "outputs": [],
   "source": []
  },
  {
   "cell_type": "code",
   "execution_count": null,
   "id": "bed19658",
   "metadata": {},
   "outputs": [],
   "source": []
  },
  {
   "cell_type": "code",
   "execution_count": null,
   "id": "37bb84f1",
   "metadata": {},
   "outputs": [],
   "source": []
  },
  {
   "cell_type": "code",
   "execution_count": null,
   "id": "dd0d6e0e",
   "metadata": {},
   "outputs": [],
   "source": []
  },
  {
   "cell_type": "code",
   "execution_count": null,
   "id": "59bf6c5f",
   "metadata": {},
   "outputs": [],
   "source": []
  },
  {
   "cell_type": "code",
   "execution_count": null,
   "id": "dd0e08c8",
   "metadata": {},
   "outputs": [],
   "source": []
  },
  {
   "cell_type": "code",
   "execution_count": null,
   "id": "a13d1eb1",
   "metadata": {},
   "outputs": [],
   "source": []
  },
  {
   "cell_type": "code",
   "execution_count": null,
   "id": "bcaeb1e4",
   "metadata": {},
   "outputs": [],
   "source": []
  },
  {
   "cell_type": "code",
   "execution_count": null,
   "id": "5fd75a3b",
   "metadata": {},
   "outputs": [],
   "source": []
  },
  {
   "cell_type": "code",
   "execution_count": null,
   "id": "d0ab04b4",
   "metadata": {},
   "outputs": [],
   "source": []
  },
  {
   "cell_type": "code",
   "execution_count": null,
   "id": "e4aaefb3",
   "metadata": {},
   "outputs": [],
   "source": []
  },
  {
   "cell_type": "code",
   "execution_count": null,
   "id": "4c9fe711",
   "metadata": {},
   "outputs": [],
   "source": []
  },
  {
   "cell_type": "code",
   "execution_count": null,
   "id": "0e2d3286",
   "metadata": {},
   "outputs": [],
   "source": []
  },
  {
   "cell_type": "code",
   "execution_count": null,
   "id": "d5f1b34d",
   "metadata": {},
   "outputs": [],
   "source": []
  }
 ],
 "metadata": {
  "kernelspec": {
   "display_name": "Python 3 (ipykernel)",
   "language": "python",
   "name": "python3"
  },
  "language_info": {
   "codemirror_mode": {
    "name": "ipython",
    "version": 3
   },
   "file_extension": ".py",
   "mimetype": "text/x-python",
   "name": "python",
   "nbconvert_exporter": "python",
   "pygments_lexer": "ipython3",
   "version": "3.8.8"
  }
 },
 "nbformat": 4,
 "nbformat_minor": 5
}
